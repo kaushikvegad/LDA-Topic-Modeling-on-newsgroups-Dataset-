{
 "cells": [
  {
   "cell_type": "code",
   "execution_count": 1,
   "metadata": {},
   "outputs": [
    {
     "name": "stderr",
     "output_type": "stream",
     "text": [
      "C:\\Users\\DELL\\anaconda3\\lib\\site-packages\\gensim\\similarities\\__init__.py:15: UserWarning: The gensim.similarities.levenshtein submodule is disabled, because the optional Levenshtein package <https://pypi.org/project/python-Levenshtein/> is unavailable. Install Levenhstein (e.g. `pip install python-Levenshtein`) to suppress this warning.\n",
      "  warnings.warn(msg)\n",
      "C:\\Users\\DELL\\anaconda3\\lib\\site-packages\\sklearn\\linear_model\\_least_angle.py:34: DeprecationWarning: `np.float` is a deprecated alias for the builtin `float`. To silence this warning, use `float` by itself. Doing this will not modify any behavior and is safe. If you specifically wanted the numpy scalar type, use `np.float64` here.\n",
      "Deprecated in NumPy 1.20; for more details and guidance: https://numpy.org/devdocs/release/1.20.0-notes.html#deprecations\n",
      "  method='lar', copy_X=True, eps=np.finfo(np.float).eps,\n",
      "C:\\Users\\DELL\\anaconda3\\lib\\site-packages\\sklearn\\linear_model\\_least_angle.py:164: DeprecationWarning: `np.float` is a deprecated alias for the builtin `float`. To silence this warning, use `float` by itself. Doing this will not modify any behavior and is safe. If you specifically wanted the numpy scalar type, use `np.float64` here.\n",
      "Deprecated in NumPy 1.20; for more details and guidance: https://numpy.org/devdocs/release/1.20.0-notes.html#deprecations\n",
      "  method='lar', copy_X=True, eps=np.finfo(np.float).eps,\n",
      "C:\\Users\\DELL\\anaconda3\\lib\\site-packages\\sklearn\\linear_model\\_least_angle.py:281: DeprecationWarning: `np.float` is a deprecated alias for the builtin `float`. To silence this warning, use `float` by itself. Doing this will not modify any behavior and is safe. If you specifically wanted the numpy scalar type, use `np.float64` here.\n",
      "Deprecated in NumPy 1.20; for more details and guidance: https://numpy.org/devdocs/release/1.20.0-notes.html#deprecations\n",
      "  eps=np.finfo(np.float).eps, copy_Gram=True, verbose=0,\n",
      "C:\\Users\\DELL\\anaconda3\\lib\\site-packages\\sklearn\\linear_model\\_least_angle.py:864: DeprecationWarning: `np.float` is a deprecated alias for the builtin `float`. To silence this warning, use `float` by itself. Doing this will not modify any behavior and is safe. If you specifically wanted the numpy scalar type, use `np.float64` here.\n",
      "Deprecated in NumPy 1.20; for more details and guidance: https://numpy.org/devdocs/release/1.20.0-notes.html#deprecations\n",
      "  eps=np.finfo(np.float).eps, copy_X=True, fit_path=True,\n",
      "C:\\Users\\DELL\\anaconda3\\lib\\site-packages\\sklearn\\linear_model\\_least_angle.py:1120: DeprecationWarning: `np.float` is a deprecated alias for the builtin `float`. To silence this warning, use `float` by itself. Doing this will not modify any behavior and is safe. If you specifically wanted the numpy scalar type, use `np.float64` here.\n",
      "Deprecated in NumPy 1.20; for more details and guidance: https://numpy.org/devdocs/release/1.20.0-notes.html#deprecations\n",
      "  eps=np.finfo(np.float).eps, copy_X=True, fit_path=True,\n",
      "C:\\Users\\DELL\\anaconda3\\lib\\site-packages\\sklearn\\linear_model\\_least_angle.py:1148: DeprecationWarning: `np.float` is a deprecated alias for the builtin `float`. To silence this warning, use `float` by itself. Doing this will not modify any behavior and is safe. If you specifically wanted the numpy scalar type, use `np.float64` here.\n",
      "Deprecated in NumPy 1.20; for more details and guidance: https://numpy.org/devdocs/release/1.20.0-notes.html#deprecations\n",
      "  eps=np.finfo(np.float).eps, positive=False):\n",
      "C:\\Users\\DELL\\anaconda3\\lib\\site-packages\\sklearn\\linear_model\\_least_angle.py:1378: DeprecationWarning: `np.float` is a deprecated alias for the builtin `float`. To silence this warning, use `float` by itself. Doing this will not modify any behavior and is safe. If you specifically wanted the numpy scalar type, use `np.float64` here.\n",
      "Deprecated in NumPy 1.20; for more details and guidance: https://numpy.org/devdocs/release/1.20.0-notes.html#deprecations\n",
      "  max_n_alphas=1000, n_jobs=None, eps=np.finfo(np.float).eps,\n",
      "C:\\Users\\DELL\\anaconda3\\lib\\site-packages\\sklearn\\linear_model\\_least_angle.py:1620: DeprecationWarning: `np.float` is a deprecated alias for the builtin `float`. To silence this warning, use `float` by itself. Doing this will not modify any behavior and is safe. If you specifically wanted the numpy scalar type, use `np.float64` here.\n",
      "Deprecated in NumPy 1.20; for more details and guidance: https://numpy.org/devdocs/release/1.20.0-notes.html#deprecations\n",
      "  max_n_alphas=1000, n_jobs=None, eps=np.finfo(np.float).eps,\n",
      "C:\\Users\\DELL\\anaconda3\\lib\\site-packages\\sklearn\\linear_model\\_least_angle.py:1754: DeprecationWarning: `np.float` is a deprecated alias for the builtin `float`. To silence this warning, use `float` by itself. Doing this will not modify any behavior and is safe. If you specifically wanted the numpy scalar type, use `np.float64` here.\n",
      "Deprecated in NumPy 1.20; for more details and guidance: https://numpy.org/devdocs/release/1.20.0-notes.html#deprecations\n",
      "  eps=np.finfo(np.float).eps, copy_X=True, positive=False):\n",
      "C:\\Users\\DELL\\anaconda3\\lib\\site-packages\\sklearn\\decomposition\\_lda.py:28: DeprecationWarning: `np.float` is a deprecated alias for the builtin `float`. To silence this warning, use `float` by itself. Doing this will not modify any behavior and is safe. If you specifically wanted the numpy scalar type, use `np.float64` here.\n",
      "Deprecated in NumPy 1.20; for more details and guidance: https://numpy.org/devdocs/release/1.20.0-notes.html#deprecations\n",
      "  EPS = np.finfo(np.float).eps\n"
     ]
    }
   ],
   "source": [
    "# importing important libraries.\n",
    "import re\n",
    "import numpy as np\n",
    "import pandas as pd\n",
    "from pprint import pprint\n",
    "\n",
    "# Gensim\n",
    "import gensim\n",
    "import gensim.corpora as corpora\n",
    "from gensim.utils import simple_preprocess\n",
    "from gensim.models import CoherenceModel\n",
    "\n",
    "# spacy for lemmatization\n",
    "import spacy\n",
    "\n",
    "# Plotting tools\n",
    "import pyLDAvis\n",
    "# import pyLDAvis.gensim  # don't skip this\n",
    "import matplotlib.pyplot as plt\n",
    "%matplotlib inline\n",
    "\n",
    "# Enable logging for gensim - optional\n",
    "import logging\n",
    "logging.basicConfig(format='%(asctime)s : %(levelname)s : %(message)s', level=logging.ERROR)\n",
    "\n",
    "import warnings\n",
    "warnings.filterwarnings(\"ignore\",category=DeprecationWarning)"
   ]
  },
  {
   "cell_type": "code",
   "execution_count": 2,
   "metadata": {},
   "outputs": [],
   "source": [
    "# import all english stopwords from nltk.\n",
    "from nltk.corpus import stopwords\n",
    "stop_words = stopwords.words('english')\n",
    "stop_words.extend(['from', 'subject', 're', 'edu', 'use'])"
   ]
  },
  {
   "cell_type": "code",
   "execution_count": 3,
   "metadata": {},
   "outputs": [
    {
     "data": {
      "text/html": [
       "<div>\n",
       "<style scoped>\n",
       "    .dataframe tbody tr th:only-of-type {\n",
       "        vertical-align: middle;\n",
       "    }\n",
       "\n",
       "    .dataframe tbody tr th {\n",
       "        vertical-align: top;\n",
       "    }\n",
       "\n",
       "    .dataframe thead th {\n",
       "        text-align: right;\n",
       "    }\n",
       "</style>\n",
       "<table border=\"1\" class=\"dataframe\">\n",
       "  <thead>\n",
       "    <tr style=\"text-align: right;\">\n",
       "      <th></th>\n",
       "      <th>content</th>\n",
       "      <th>target</th>\n",
       "      <th>target_names</th>\n",
       "    </tr>\n",
       "  </thead>\n",
       "  <tbody>\n",
       "    <tr>\n",
       "      <th>0</th>\n",
       "      <td>From: lerxst@wam.umd.edu (where's my thing)\\nS...</td>\n",
       "      <td>7</td>\n",
       "      <td>rec.autos</td>\n",
       "    </tr>\n",
       "    <tr>\n",
       "      <th>1</th>\n",
       "      <td>From: guykuo@carson.u.washington.edu (Guy Kuo)...</td>\n",
       "      <td>4</td>\n",
       "      <td>comp.sys.mac.hardware</td>\n",
       "    </tr>\n",
       "    <tr>\n",
       "      <th>2</th>\n",
       "      <td>From: twillis@ec.ecn.purdue.edu (Thomas E Will...</td>\n",
       "      <td>4</td>\n",
       "      <td>comp.sys.mac.hardware</td>\n",
       "    </tr>\n",
       "    <tr>\n",
       "      <th>3</th>\n",
       "      <td>From: jgreen@amber (Joe Green)\\nSubject: Re: W...</td>\n",
       "      <td>1</td>\n",
       "      <td>comp.graphics</td>\n",
       "    </tr>\n",
       "    <tr>\n",
       "      <th>4</th>\n",
       "      <td>From: jcm@head-cfa.harvard.edu (Jonathan McDow...</td>\n",
       "      <td>14</td>\n",
       "      <td>sci.space</td>\n",
       "    </tr>\n",
       "  </tbody>\n",
       "</table>\n",
       "</div>"
      ],
      "text/plain": [
       "                                             content  target  \\\n",
       "0  From: lerxst@wam.umd.edu (where's my thing)\\nS...       7   \n",
       "1  From: guykuo@carson.u.washington.edu (Guy Kuo)...       4   \n",
       "2  From: twillis@ec.ecn.purdue.edu (Thomas E Will...       4   \n",
       "3  From: jgreen@amber (Joe Green)\\nSubject: Re: W...       1   \n",
       "4  From: jcm@head-cfa.harvard.edu (Jonathan McDow...      14   \n",
       "\n",
       "            target_names  \n",
       "0              rec.autos  \n",
       "1  comp.sys.mac.hardware  \n",
       "2  comp.sys.mac.hardware  \n",
       "3          comp.graphics  \n",
       "4              sci.space  "
      ]
     },
     "execution_count": 3,
     "metadata": {},
     "output_type": "execute_result"
    }
   ],
   "source": [
    "# Importing Dataset\n",
    "df = pd.read_json('newsgroups.json')\n",
    "df.head()"
   ]
  },
  {
   "cell_type": "code",
   "execution_count": 175,
   "metadata": {},
   "outputs": [
    {
     "data": {
      "text/plain": [
       "content         0\n",
       "target          0\n",
       "target_names    0\n",
       "dtype: int64"
      ]
     },
     "execution_count": 175,
     "metadata": {},
     "output_type": "execute_result"
    }
   ],
   "source": [
    "#checking for missing values.\n",
    "df.isnull().sum()"
   ]
  },
  {
   "cell_type": "code",
   "execution_count": null,
   "metadata": {},
   "outputs": [],
   "source": []
  },
  {
   "cell_type": "code",
   "execution_count": 4,
   "metadata": {},
   "outputs": [
    {
     "data": {
      "text/plain": [
       "array(['rec.autos', 'comp.sys.mac.hardware', 'comp.graphics', 'sci.space',\n",
       "       'talk.politics.guns', 'sci.med', 'comp.sys.ibm.pc.hardware',\n",
       "       'comp.os.ms-windows.misc', 'rec.motorcycles', 'talk.religion.misc',\n",
       "       'misc.forsale', 'alt.atheism', 'sci.electronics', 'comp.windows.x',\n",
       "       'rec.sport.hockey', 'rec.sport.baseball', 'soc.religion.christian',\n",
       "       'talk.politics.mideast', 'talk.politics.misc', 'sci.crypt'],\n",
       "      dtype=object)"
      ]
     },
     "execution_count": 4,
     "metadata": {},
     "output_type": "execute_result"
    }
   ],
   "source": [
    "#checking unique target names.\n",
    "df.target_names.unique()"
   ]
  },
  {
   "cell_type": "markdown",
   "metadata": {},
   "source": [
    "### Text Preprocessing"
   ]
  },
  {
   "cell_type": "code",
   "execution_count": 5,
   "metadata": {},
   "outputs": [
    {
     "data": {
      "text/plain": [
       "['From: (wheres my thing) Subject: WHAT car is this!? Nntp-Posting-Host: rac3.wam.umd.edu Organization: University of Maryland, College Park Lines: 15 I was wondering if anyone out there could enlighten me on this car I saw the other day. It was a 2-door sports car, looked to be from the late 60s/ early 70s. It was called a Bricklin. The doors were really small. In addition, the front bumper was separate from the rest of the body. This is all I know. If anyone can tellme a model name, engine specs, years of production, where this car is made, history, or whatever info you have on this funky looking car, please e-mail. Thanks, - IL ---- brought to you by your neighborhood Lerxst ---- ']"
      ]
     },
     "execution_count": 5,
     "metadata": {},
     "output_type": "execute_result"
    }
   ],
   "source": [
    "# Remove emails and newline characters\n",
    "# Convert to list\n",
    "data = df.content.values.tolist()\n",
    "\n",
    "# Remove Emails\n",
    "data = [re.sub('\\S*@\\S*\\s?', '', sent) for sent in data]\n",
    "\n",
    "# Remove new line characters\n",
    "data = [re.sub('\\s+', ' ', sent) for sent in data]\n",
    "\n",
    "# Remove distracting single quotes\n",
    "data = [re.sub(\"\\'\", \"\", sent) for sent in data]\n",
    "\n",
    "data[:1]"
   ]
  },
  {
   "cell_type": "code",
   "execution_count": 6,
   "metadata": {},
   "outputs": [
    {
     "name": "stdout",
     "output_type": "stream",
     "text": [
      "[['from', 'wheres', 'my', 'thing', 'subject', 'what', 'car', 'is', 'this', 'nntp', 'posting', 'host', 'rac', 'wam', 'umd', 'edu', 'organization', 'university', 'of', 'maryland', 'college', 'park', 'lines', 'was', 'wondering', 'if', 'anyone', 'out', 'there', 'could', 'enlighten', 'me', 'on', 'this', 'car', 'saw', 'the', 'other', 'day', 'it', 'was', 'door', 'sports', 'car', 'looked', 'to', 'be', 'from', 'the', 'late', 'early', 'it', 'was', 'called', 'bricklin', 'the', 'doors', 'were', 'really', 'small', 'in', 'addition', 'the', 'front', 'bumper', 'was', 'separate', 'from', 'the', 'rest', 'of', 'the', 'body', 'this', 'is', 'all', 'know', 'if', 'anyone', 'can', 'tellme', 'model', 'name', 'engine', 'specs', 'years', 'of', 'production', 'where', 'this', 'car', 'is', 'made', 'history', 'or', 'whatever', 'info', 'you', 'have', 'on', 'this', 'funky', 'looking', 'car', 'please', 'mail', 'thanks', 'il', 'brought', 'to', 'you', 'by', 'your', 'neighborhood', 'lerxst']]\n"
     ]
    }
   ],
   "source": [
    "# Tokenize words and Clean-up text\n",
    "\n",
    "def sent_to_words(sentences):\n",
    "    for sentence in sentences:\n",
    "        yield(gensim.utils.simple_preprocess(str(sentence), deacc=True))  # deacc=True removes punctuations\n",
    "\n",
    "data_words = list(sent_to_words(data))\n",
    "\n",
    "print(data_words[:1])"
   ]
  },
  {
   "cell_type": "code",
   "execution_count": 119,
   "metadata": {},
   "outputs": [],
   "source": [
    "# Creating unigrams"
   ]
  },
  {
   "cell_type": "code",
   "execution_count": 8,
   "metadata": {},
   "outputs": [
    {
     "name": "stdout",
     "output_type": "stream",
     "text": [
      "['from', 'wheres', 'my', 'thing', 'subject', 'what', 'car', 'is', 'this', 'nntp_posting_host', 'rac_wam_umd_edu', 'organization', 'university', 'of', 'maryland_college_park', 'lines', 'was', 'wondering', 'if', 'anyone', 'out', 'there', 'could', 'enlighten', 'me', 'on', 'this', 'car', 'saw', 'the', 'other', 'day', 'it', 'was', 'door', 'sports', 'car', 'looked', 'to', 'be', 'from', 'the', 'late', 'early', 'it', 'was', 'called', 'bricklin', 'the', 'doors', 'were', 'really', 'small', 'in', 'addition', 'the', 'front_bumper', 'was', 'separate', 'from', 'the', 'rest', 'of', 'the', 'body', 'this', 'is', 'all', 'know', 'if', 'anyone', 'can', 'tellme', 'model', 'name', 'engine', 'specs', 'years', 'of', 'production', 'where', 'this', 'car', 'is', 'made', 'history', 'or', 'whatever', 'info', 'you', 'have', 'on', 'this', 'funky', 'looking', 'car', 'please', 'mail', 'thanks', 'il', 'brought', 'to', 'you', 'by', 'your', 'neighborhood', 'lerxst']\n"
     ]
    }
   ],
   "source": [
    "# Build the bigram and trigram models\n",
    "bigram = gensim.models.Phrases(data_words, min_count=5, threshold=100) # higher threshold fewer phrases.\n",
    "trigram = gensim.models.Phrases(bigram[data_words], threshold=100)  \n",
    "\n",
    "# Faster way to get a sentence clubbed as a trigram/bigram\n",
    "bigram_mod = gensim.models.phrases.Phraser(bigram)\n",
    "trigram_mod = gensim.models.phrases.Phraser(trigram)\n",
    "\n",
    "# See trigram example\n",
    "print(trigram_mod[bigram_mod[data_words[0]]])"
   ]
  },
  {
   "cell_type": "code",
   "execution_count": null,
   "metadata": {},
   "outputs": [],
   "source": []
  },
  {
   "cell_type": "code",
   "execution_count": 124,
   "metadata": {},
   "outputs": [],
   "source": [
    "# Remove Stopwords, Make Bigrams and Lemmatize"
   ]
  },
  {
   "cell_type": "code",
   "execution_count": 125,
   "metadata": {},
   "outputs": [],
   "source": [
    "# Define functions for stopwords, bigrams, trigrams and lemmatization\n",
    "def remove_stopwords(texts):\n",
    "    return [[word for word in simple_preprocess(str(doc)) if word not in stop_words] for doc in texts]\n",
    "\n",
    "def make_bigrams(texts):\n",
    "    return [bigram_mod[doc] for doc in texts]\n",
    "\n",
    "def make_trigrams(texts):\n",
    "    return [trigram_mod[bigram_mod[doc]] for doc in texts]\n",
    "\n",
    "def lemmatization(texts, allowed_postags=['NOUN', 'ADJ', 'VERB', 'ADV']):\n",
    "    \"\"\"https://spacy.io/api/annotation\"\"\"\n",
    "    texts_out = []\n",
    "    for sent in texts:\n",
    "        doc = nlp(\" \".join(sent)) \n",
    "        texts_out.append([token.lemma_ for token in doc if token.pos_ in allowed_postags])\n",
    "    return texts_out"
   ]
  },
  {
   "cell_type": "code",
   "execution_count": null,
   "metadata": {},
   "outputs": [],
   "source": []
  },
  {
   "cell_type": "code",
   "execution_count": 11,
   "metadata": {},
   "outputs": [],
   "source": [
    "# Remove Stop Words\n",
    "data_words_nostops = remove_stopwords(data_words)\n",
    "\n",
    "# Form Bigrams\n",
    "data_words_bigrams = make_bigrams(data_words_nostops)\n"
   ]
  },
  {
   "cell_type": "code",
   "execution_count": null,
   "metadata": {},
   "outputs": [],
   "source": []
  },
  {
   "cell_type": "code",
   "execution_count": null,
   "metadata": {},
   "outputs": [],
   "source": []
  },
  {
   "cell_type": "code",
   "execution_count": 13,
   "metadata": {},
   "outputs": [],
   "source": [
    "# Initialize spacy 'en' model, keeping only tagger component (for efficiency)\n",
    "# python3 -m spacy download en_core_web_sm\n",
    "nlp = spacy.load('en_core_web_sm')"
   ]
  },
  {
   "cell_type": "code",
   "execution_count": 14,
   "metadata": {},
   "outputs": [
    {
     "name": "stdout",
     "output_type": "stream",
     "text": [
      "[['where', 's', 'thing', 'car', 'nntp_poste', 'host', 'rac_wam', 'umd', 'organization', 'university', 'park', 'line', 'wonder', 'enlighten', 'car', 'saw', 'day', 'door', 'sport', 'car', 'look', 'late', 'early', 'call', 'bricklin', 'door', 'really', 'small', 'addition', 'separate', 'rest', 'body', 'know', 'tellme', 'model', 'name', 'engine', 'spec', 'year', 'production', 'car', 'make', 'history', 'info', 'funky', 'look', 'car', 'mail', 'thank', 'bring', 'neighborhood', 'lerxst']]\n"
     ]
    }
   ],
   "source": [
    "# Do lemmatization keeping only noun, adj, vb, adv\n",
    "data_lemmatized = lemmatization(data_words_bigrams, allowed_postags=['NOUN', 'ADJ', 'VERB', 'ADV'])\n",
    "\n",
    "print(data_lemmatized[:1])"
   ]
  },
  {
   "cell_type": "code",
   "execution_count": 18,
   "metadata": {},
   "outputs": [],
   "source": [
    "# create a dictionary which will be the input for LDA model"
   ]
  },
  {
   "cell_type": "code",
   "execution_count": 19,
   "metadata": {},
   "outputs": [
    {
     "name": "stdout",
     "output_type": "stream",
     "text": [
      "[[(0, 1), (1, 1), (2, 1), (3, 1), (4, 1), (5, 5), (6, 1), (7, 2), (8, 1), (9, 1), (10, 1), (11, 1), (12, 1), (13, 1), (14, 1), (15, 1), (16, 1), (17, 1), (18, 1), (19, 2), (20, 1), (21, 1), (22, 1), (23, 1), (24, 1), (25, 1), (26, 1), (27, 1), (28, 1), (29, 1), (30, 1), (31, 1), (32, 1), (33, 1), (34, 1), (35, 1), (36, 1), (37, 1), (38, 1), (39, 1), (40, 1), (41, 1), (42, 1), (43, 1), (44, 1), (45, 1)]]\n"
     ]
    }
   ],
   "source": [
    "# Create Dictionary\n",
    "id2word = corpora.Dictionary(data_lemmatized)\n",
    "\n",
    "# Create Corpus\n",
    "texts = data_lemmatized\n",
    "\n",
    "# Term Document Frequency\n",
    "corpus = [id2word.doc2bow(text) for text in texts]\n",
    "\n",
    "# View\n",
    "print(corpus[:1])"
   ]
  },
  {
   "cell_type": "code",
   "execution_count": 20,
   "metadata": {},
   "outputs": [
    {
     "data": {
      "text/plain": [
       "[[('addition', 1),\n",
       "  ('body', 1),\n",
       "  ('bricklin', 1),\n",
       "  ('bring', 1),\n",
       "  ('call', 1),\n",
       "  ('car', 5),\n",
       "  ('day', 1),\n",
       "  ('door', 2),\n",
       "  ('early', 1),\n",
       "  ('engine', 1),\n",
       "  ('enlighten', 1),\n",
       "  ('funky', 1),\n",
       "  ('history', 1),\n",
       "  ('host', 1),\n",
       "  ('info', 1),\n",
       "  ('know', 1),\n",
       "  ('late', 1),\n",
       "  ('lerxst', 1),\n",
       "  ('line', 1),\n",
       "  ('look', 2),\n",
       "  ('mail', 1),\n",
       "  ('make', 1),\n",
       "  ('model', 1),\n",
       "  ('name', 1),\n",
       "  ('neighborhood', 1),\n",
       "  ('nntp_poste', 1),\n",
       "  ('organization', 1),\n",
       "  ('park', 1),\n",
       "  ('production', 1),\n",
       "  ('rac_wam', 1),\n",
       "  ('really', 1),\n",
       "  ('rest', 1),\n",
       "  ('s', 1),\n",
       "  ('saw', 1),\n",
       "  ('separate', 1),\n",
       "  ('small', 1),\n",
       "  ('spec', 1),\n",
       "  ('sport', 1),\n",
       "  ('tellme', 1),\n",
       "  ('thank', 1),\n",
       "  ('thing', 1),\n",
       "  ('umd', 1),\n",
       "  ('university', 1),\n",
       "  ('where', 1),\n",
       "  ('wonder', 1),\n",
       "  ('year', 1)]]"
      ]
     },
     "execution_count": 20,
     "metadata": {},
     "output_type": "execute_result"
    }
   ],
   "source": [
    "[[(id2word[id], freq) for id, freq in cp] for cp in corpus[:1]]"
   ]
  },
  {
   "cell_type": "markdown",
   "metadata": {},
   "source": [
    "# Model building and evaluting."
   ]
  },
  {
   "cell_type": "code",
   "execution_count": 130,
   "metadata": {},
   "outputs": [
    {
     "name": "stdout",
     "output_type": "stream",
     "text": [
      "\n",
      "Perplexity:  -8.480763918164163\n",
      "\n",
      "Coherence Score:  0.5983203329724492\n",
      "\n",
      "Perplexity:  -9.372611613797172\n",
      "\n",
      "Coherence Score:  0.536440419313845\n",
      "\n",
      "Perplexity:  -12.830773664156295\n",
      "\n",
      "Coherence Score:  0.5268968535869838\n",
      "\n",
      "Perplexity:  -14.3718174786959\n",
      "\n",
      "Coherence Score:  0.4871744774360211\n",
      "\n",
      "Perplexity:  -18.82988113196323\n",
      "\n",
      "Coherence Score:  0.450305582885823\n",
      "\n",
      "Perplexity:  -22.20000582202591\n",
      "\n",
      "Coherence Score:  0.45057622704905087\n"
     ]
    }
   ],
   "source": [
    "select_topics = []\n",
    "for i in [5, 10, 15, 20, 30, 40]:\n",
    "    # Build LDA model\n",
    "    lda_model = gensim.models.ldamodel.LdaModel(corpus=corpus,\n",
    "                                               id2word=id2word,\n",
    "                                               num_topics=i, \n",
    "                                               random_state=100,\n",
    "                                               update_every=1,\n",
    "                                               chunksize=100,\n",
    "                                               passes=10,\n",
    "                                               alpha='auto',\n",
    "                                               per_word_topics=True)\n",
    "\n",
    "\n",
    "    # Compute Perplexity\n",
    "    print('\\nPerplexity: ', lda_model.log_perplexity(corpus))  # a measure of how good the model is. lower the better.\n",
    "\n",
    "    # Compute Coherence Score\n",
    "    coherence_model_lda = CoherenceModel(model=lda_model, texts=data_lemmatized, dictionary=id2word, coherence='c_v')\n",
    "    coherence_lda = coherence_model_lda.get_coherence()\n",
    "    print('\\nCoherence Score: ', coherence_lda)\n",
    "\n",
    "    select_topics.append({\"No of Topics\": i, \"Coherence Score\": coherence_lda})"
   ]
  },
  {
   "cell_type": "code",
   "execution_count": null,
   "metadata": {},
   "outputs": [],
   "source": []
  },
  {
   "cell_type": "code",
   "execution_count": 136,
   "metadata": {},
   "outputs": [],
   "source": [
    "select_topics_df = pd.DataFrame(select_topics)"
   ]
  },
  {
   "cell_type": "code",
   "execution_count": 138,
   "metadata": {},
   "outputs": [
    {
     "data": {
      "text/html": [
       "<div>\n",
       "<style scoped>\n",
       "    .dataframe tbody tr th:only-of-type {\n",
       "        vertical-align: middle;\n",
       "    }\n",
       "\n",
       "    .dataframe tbody tr th {\n",
       "        vertical-align: top;\n",
       "    }\n",
       "\n",
       "    .dataframe thead th {\n",
       "        text-align: right;\n",
       "    }\n",
       "</style>\n",
       "<table border=\"1\" class=\"dataframe\">\n",
       "  <thead>\n",
       "    <tr style=\"text-align: right;\">\n",
       "      <th></th>\n",
       "      <th>No. of Topics</th>\n",
       "      <th>Coherence Score</th>\n",
       "    </tr>\n",
       "  </thead>\n",
       "  <tbody>\n",
       "    <tr>\n",
       "      <th>0</th>\n",
       "      <td>5</td>\n",
       "      <td>0.598320</td>\n",
       "    </tr>\n",
       "    <tr>\n",
       "      <th>1</th>\n",
       "      <td>10</td>\n",
       "      <td>0.536440</td>\n",
       "    </tr>\n",
       "    <tr>\n",
       "      <th>2</th>\n",
       "      <td>15</td>\n",
       "      <td>0.526897</td>\n",
       "    </tr>\n",
       "    <tr>\n",
       "      <th>3</th>\n",
       "      <td>20</td>\n",
       "      <td>0.487174</td>\n",
       "    </tr>\n",
       "    <tr>\n",
       "      <th>4</th>\n",
       "      <td>30</td>\n",
       "      <td>0.450306</td>\n",
       "    </tr>\n",
       "    <tr>\n",
       "      <th>5</th>\n",
       "      <td>40</td>\n",
       "      <td>0.450576</td>\n",
       "    </tr>\n",
       "  </tbody>\n",
       "</table>\n",
       "</div>"
      ],
      "text/plain": [
       "   No. of Topics  Coherence Score\n",
       "0              5         0.598320\n",
       "1             10         0.536440\n",
       "2             15         0.526897\n",
       "3             20         0.487174\n",
       "4             30         0.450306\n",
       "5             40         0.450576"
      ]
     },
     "execution_count": 138,
     "metadata": {},
     "output_type": "execute_result"
    }
   ],
   "source": [
    "select_topics_df"
   ]
  },
  {
   "cell_type": "code",
   "execution_count": 143,
   "metadata": {},
   "outputs": [
    {
     "data": {
      "image/png": "[encoded data removed]",
      "text/plain": [
       "<Figure size 432x288 with 1 Axes>"
      ]
     },
     "metadata": {
      "needs_background": "light"
     },
     "output_type": "display_data"
    }
   ],
   "source": [
    "plt.plot(select_topics_df['No. of Topics'], select_topics_df['Coherence Score'])\n",
    "plt.xlabel('No. of Topics')\n",
    "plt.ylabel('Coherence Score')\n",
    "plt.show()"
   ]
  },
  {
   "cell_type": "code",
   "execution_count": 144,
   "metadata": {},
   "outputs": [],
   "source": [
    "# from above table we can see that best model is with no. of tpoics 5."
   ]
  },
  {
   "cell_type": "code",
   "execution_count": 145,
   "metadata": {},
   "outputs": [],
   "source": [
    "lda_model = gensim.models.ldamodel.LdaModel(corpus=corpus,\n",
    "                                           id2word=id2word,\n",
    "                                           num_topics=5, \n",
    "                                           random_state=100,\n",
    "                                           update_every=1,\n",
    "                                           chunksize=100,\n",
    "                                           passes=10,\n",
    "                                           alpha='auto',\n",
    "                                           per_word_topics=True)"
   ]
  },
  {
   "cell_type": "code",
   "execution_count": 146,
   "metadata": {},
   "outputs": [
    {
     "name": "stdout",
     "output_type": "stream",
     "text": [
      "[(0,\n",
      "  '0.010*\"write\" + 0.010*\"say\" + 0.010*\"people\" + 0.008*\"think\" + '\n",
      "  '0.008*\"article\" + 0.007*\"make\" + 0.007*\"know\" + 0.007*\"organization\" + '\n",
      "  '0.007*\"line\" + 0.006*\"god\"'),\n",
      " (1,\n",
      "  '0.011*\"team\" + 0.011*\"game\" + 0.010*\"car\" + 0.009*\"year\" + 0.009*\"line\" + '\n",
      "  '0.009*\"organization\" + 0.007*\"go\" + 0.006*\"article\" + 0.006*\"get\" + '\n",
      "  '0.006*\"write\"'),\n",
      " (2,\n",
      "  '0.015*\"line\" + 0.013*\"organization\" + 0.007*\"use\" + 0.007*\"nntp_poste\" + '\n",
      "  '0.006*\"host\" + 0.006*\"get\" + 0.006*\"system\" + 0.006*\"write\" + '\n",
      "  '0.006*\"university\" + 0.005*\"drive\"'),\n",
      " (3,\n",
      "  '0.009*\"israel\" + 0.006*\"state\" + 0.005*\"year\" + 0.005*\"go\" + '\n",
      "  '0.005*\"israeli\" + 0.005*\"kill\" + 0.004*\"war\" + 0.004*\"government\" + '\n",
      "  '0.004*\"armenian\" + 0.004*\"say\"'),\n",
      " (4,\n",
      "  '0.335*\"ax\" + 0.050*\"_\" + 0.026*\"max\" + 0.010*\"c\" + 0.009*\"cx\" + 0.007*\"ei\" '\n",
      "  '+ 0.005*\"rlk\" + 0.005*\"mr\" + 0.004*\"m\" + 0.003*\"mu\"')]\n"
     ]
    }
   ],
   "source": [
    "# Print the Keyword in the 10 topics\n",
    "pprint(lda_model.print_topics())\n",
    "doc_lda = lda_model[corpus]"
   ]
  },
  {
   "cell_type": "code",
   "execution_count": null,
   "metadata": {},
   "outputs": [],
   "source": []
  },
  {
   "cell_type": "markdown",
   "metadata": {},
   "source": [
    "# Visualize Topics"
   ]
  },
  {
   "cell_type": "code",
   "execution_count": 174,
   "metadata": {},
   "outputs": [
    {
     "data": {
      "text/html": [
       "\n",
       "<link rel=\"stylesheet\" type=\"text/css\" href=\"https://cdn.jsdelivr.net/gh/bmabey/pyLDAvis@3.3.1/pyLDAvis/js/ldavis.v1.0.0.css\">\n",
       "\n",
       "\n",
       "<div id=\"ldavis_el1017622742065732807865063381\"></div>\n",
       "<script type=\"text/javascript\">\n",
       "\n",
       "var ldavis_el1017622742065732807865063381_data = {\"mdsDat\": {\"x\": [0.17829812722759758, 0.1470526476175909, 0.026400150699429057, 0.04318661141635954, -0.3949375369609766], \"y\": [0.004402753870985451, 0.12144115487709575, -0.2875256227039044, 0.12051755586167999, 0.04116415809414315], \"topics\": [1, 2, 3, 4, 5], \"cluster\": [1, 1, 1, 1, 1], \"Freq\": [36.392074311374834, 35.30094353139187, 11.385145573386161, 11.04845724988523, 5.873379333961907]}, \"tinfo\": {\"Term\": [\"ax\", \"_\", \"max\", \"people\", \"team\", \"game\", \"year\", \"car\", \"organization\", \"god\", \"israel\", \"line\", \"say\", \"think\", \"go\", \"believe\", \"c\", \"use\", \"evidence\", \"nntp_poste\", \"reason\", \"cx\", \"good\", \"win\", \"thank\", \"drive\", \"program\", \"window\", \"mail\", \"state\", \"god\", \"believe\", \"evidence\", \"christian\", \"law\", \"sense\", \"faith\", \"bible\", \"religion\", \"argument\", \"prove\", \"belief\", \"atheist\", \"truth\", \"patient\", \"church\", \"human\", \"encryption\", \"drug\", \"existence\", \"statement\", \"conclusion\", \"christianity\", \"reality\", \"christ\", \"indeed\", \"sin\", \"doubt\", \"judge\", \"revelation\", \"community\", \"reason\", \"claim\", \"agree\", \"person\", \"matter\", \"people\", \"life\", \"say\", \"fact\", \"think\", \"mean\", \"thing\", \"even\", \"true\", \"make\", \"many\", \"write\", \"know\", \"right\", \"article\", \"take\", \"see\", \"come\", \"point\", \"well\", \"time\", \"way\", \"good\", \"tell\", \"organization\", \"line\", \"go\", \"get\", \"also\", \"window\", \"program\", \"mail\", \"file\", \"computer\", \"card\", \"chip\", \"software\", \"available\", \"mac\", \"datum\", \"email\", \"sale\", \"machine\", \"info\", \"copy\", \"version\", \"image\", \"cpu\", \"internet\", \"entry\", \"memory\", \"color\", \"advance\", \"ripem\", \"user\", \"pin\", \"graphic\", \"application\", \"hardware\", \"screen\", \"thank\", \"drive\", \"driver\", \"use\", \"system\", \"bit\", \"space\", \"line\", \"host\", \"organization\", \"nntp_poste\", \"key\", \"need\", \"problem\", \"university\", \"work\", \"get\", \"run\", \"new\", \"reply\", \"write\", \"also\", \"help\", \"know\", \"article\", \"look\", \"israel\", \"israeli\", \"war\", \"armenian\", \"soldier\", \"lebanese\", \"arab\", \"village\", \"military\", \"land\", \"turk\", \"muslim\", \"material\", \"turkish\", \"terrorist\", \"bomb\", \"withdraw\", \"terrorism\", \"iran\", \"insurance\", \"town\", \"occupy\", \"palestinian\", \"turkey\", \"northern\", \"tax\", \"russian\", \"civilian\", \"greece\", \"justice\", \"president\", \"greek\", \"kill\", \"weapon\", \"attack\", \"city\", \"firearm\", \"state\", \"country\", \"government\", \"house\", \"force\", \"report\", \"year\", \"center\", \"american\", \"go\", \"first\", \"say\", \"people\", \"live\", \"time\", \"team\", \"game\", \"player\", \"hockey\", \"bike\", \"season\", \"fan\", \"nhl\", \"score\", \"ride\", \"playoff\", \"car\", \"baseball\", \"motorcycle\", \"toronto\", \"sport\", \"det\", \"gm\", \"club\", \"ice\", \"rider\", \"saturn\", \"tor\", \"coach\", \"helmet\", \"cub\", \"canadian\", \"ticket\", \"detroit\", \"hawk\", \"plate\", \"league\", \"engine\", \"pen\", \"play\", \"win\", \"wing\", \"year\", \"division\", \"hit\", \"star\", \"go\", \"organization\", \"line\", \"last\", \"good\", \"get\", \"article\", \"write\", \"well\", \"university\", \"nntp_poste\", \"first\", \"host\", \"run\", \"think\", \"time\", \"next\", \"see\", \"ax\", \"c\", \"cx\", \"ei\", \"rlk\", \"mu\", \"lq\", \"lk\", \"nei\", \"fij\", \"qs\", \"zd\", \"gy\", \"bn\", \"bhj\", \"r\", \"ea\", \"chz\", \"bf\", \"r_q\", \"rb\", \"kr\", \"hj\", \"rck\", \"eq\", \"mcx\", \"mq\", \"sqs\", \"bxn\", \"gq\", \"max\", \"sq\", \"mj\", \"_\", \"od\", \"mk\", \"cj\", \"mr\", \"mc\", \"mo\", \"mp\", \"rm\", \"ne\", \"m\", \"ai\", \"md\"], \"Freq\": [29803.0, 4755.0, 2378.0, 5903.0, 1883.0, 1865.0, 3746.0, 1674.0, 12572.0, 3380.0, 1532.0, 13737.0, 6613.0, 5494.0, 5405.0, 2678.0, 929.0, 4635.0, 2340.0, 5312.0, 2658.0, 808.0, 4925.0, 1325.0, 2582.0, 2975.0, 2133.0, 2120.0, 2102.0, 2705.0, 3379.8150809399203, 2677.28231729179, 2339.4927083123916, 1856.2218581348477, 1513.4831438176225, 1373.8656433311608, 1141.2969130845363, 945.1178150660648, 854.469259326225, 820.1665876466739, 767.4794373398084, 737.6979687845718, 735.7996133302288, 738.7849954950088, 732.6086432815268, 675.0448689013971, 640.3621031633855, 609.5805725979868, 545.5687213697651, 544.7252214544973, 541.8188573261497, 525.3131879235663, 484.15892190492747, 461.40307321832637, 448.74323664245463, 447.76531634485326, 442.2572529261146, 410.64417448421096, 401.6901428278286, 393.5759902277859, 435.9650332269309, 2577.267400579747, 1597.6060145649099, 994.6708396051008, 1219.9701668439254, 822.4409997415572, 5277.71834447595, 1208.939172054743, 5532.172571460441, 1575.228337356807, 4449.9410317922475, 2029.0679489621668, 2701.347122502426, 2345.914638073002, 1135.4657280602073, 3972.044817984089, 2240.7743795266288, 5748.35617806809, 3970.2986026907283, 2113.0281694446808, 4171.89444157975, 2279.2103417801895, 2771.962202781662, 2240.0684081646327, 1973.3699102630274, 2601.580090433466, 2667.558933220669, 2056.244770271071, 2516.382625659495, 1708.3382891883566, 3743.692305593829, 3723.5264925458505, 2435.5501864309367, 2435.4199636815197, 1968.014371521263, 2119.3116900905497, 2132.3490841357807, 2101.4426200579665, 1973.575402143279, 1785.4562074398827, 1564.8548021334366, 1294.931560820437, 1288.9243535567625, 1223.9200227219274, 1187.2652044864465, 1183.7108852767703, 1129.6113320955478, 1133.7707608474618, 1123.240213668913, 1034.41661041251, 963.4972623130899, 929.0114888842417, 930.2189727293645, 909.9169694571511, 891.6473733530004, 856.5857077113628, 801.3928669279894, 785.5712478799082, 805.1217441399878, 776.1673706565183, 754.8616588709526, 750.6467171930865, 724.0490010700274, 724.1278878595384, 702.5168860635011, 707.7285738272765, 2525.318684004464, 2865.252490141974, 1212.9611619265693, 3609.5509032912073, 3214.904850357487, 1590.4394850635322, 1519.801555794779, 8229.573323563136, 3403.1930082554386, 7182.184032381898, 3607.9562587486266, 1847.0337806821235, 2329.559841460122, 2174.2094358464933, 3030.911266901281, 2364.4525439072036, 3291.8503659024573, 1789.516918916979, 1990.7624029445667, 1834.066756885692, 3171.3516341456216, 2092.7067628819245, 1492.1734004101488, 2220.3728163751325, 2313.0656021894174, 1684.3002180813883, 1531.2965500079001, 813.8257869141856, 714.3583404357498, 658.9976762126424, 556.6767211847512, 503.069110378077, 496.8360449301603, 478.67468580763244, 463.69074853307893, 426.81539682922306, 410.92989151754415, 371.8900387176186, 369.8607487681949, 335.75297516086977, 333.32831691194167, 318.75217838038606, 294.10417276267316, 298.32254400771984, 288.36433528311886, 293.4793825843032, 289.0115604070844, 280.52551717416736, 271.0872017241327, 262.8019302027388, 257.8764872630358, 253.74855751895583, 251.67070864349765, 249.63131394645984, 238.54007029742215, 230.5769477535352, 512.4690117478962, 483.6488280170867, 777.8616268166115, 363.79745911947714, 523.5331089122722, 483.4357862548893, 349.08955788688996, 962.7678420323062, 456.1016419946308, 691.6840085573782, 371.35905828942015, 480.76067461866865, 550.3464175901511, 870.9261117533172, 505.3423979038176, 467.99789720359246, 851.4258735719201, 572.3838295831953, 641.6189538517501, 621.6839709337174, 456.5422410691698, 462.97415351477844, 1882.7316458250325, 1864.872412207836, 874.5769742367715, 791.4604060555299, 688.232588206975, 595.5250092093971, 563.380100843901, 457.93723372215175, 440.8683497955577, 400.3345512868472, 368.89415186469984, 1669.8079915383933, 309.57399297357733, 299.34332072309365, 285.86826902410854, 268.93892495229767, 261.66808524900415, 339.4781698840172, 263.9054702379391, 234.72115321137002, 233.0373554349483, 231.87422498338034, 217.31674714370862, 216.8066445345753, 215.33205925933638, 225.23847450761488, 202.40493301913583, 195.672815992793, 191.62392274126842, 186.2013635155033, 190.95305356491912, 285.04984403924345, 412.5684920911563, 313.3466082081024, 949.4192103708616, 945.7363076670679, 376.3078195203027, 1568.3745799540518, 424.98263620486324, 393.3333550369056, 297.8000161551757, 1179.7146815928752, 1542.2195346466922, 1566.347088433243, 606.2219881664602, 916.6582409398534, 1043.2943558332381, 1076.112448662691, 1039.7268672982361, 765.0493950022797, 768.9598574023288, 768.6596871737183, 614.0661436674244, 661.2062943361478, 567.3367911713016, 584.8565919515562, 561.722899690665, 466.8745940977053, 464.3822161727989, 29802.778551837062, 928.9376792188721, 807.153008860643, 633.6213632341784, 422.1558339101175, 298.47488722216144, 243.92898575047832, 217.91624064661337, 182.25581995482398, 163.88652474702408, 207.49851179534852, 141.93146346567747, 147.2510698497608, 148.7322319082235, 121.9620726250965, 165.9366834768475, 129.65474461701172, 119.73421168287516, 118.50986505621741, 121.91686359358545, 115.88775157152561, 120.02770321299587, 118.42412200629138, 110.35099496630878, 102.2623845311827, 93.31144103881513, 90.06066240809156, 87.34024953299001, 84.29500081983036, 83.64557737449805, 2354.25583744107, 149.6305067143785, 105.65422030483644, 4414.422405033879, 151.4929822857028, 185.72906508263546, 140.56973144310086, 402.9982921911099, 264.19278864367016, 165.75966389910516, 150.43845654405536, 176.68188044677433, 143.98501468288032, 342.2175367493418, 141.10962305505362, 149.0849471661942], \"Total\": [29803.0, 4755.0, 2378.0, 5903.0, 1883.0, 1865.0, 3746.0, 1674.0, 12572.0, 3380.0, 1532.0, 13737.0, 6613.0, 5494.0, 5405.0, 2678.0, 929.0, 4635.0, 2340.0, 5312.0, 2658.0, 808.0, 4925.0, 1325.0, 2582.0, 2975.0, 2133.0, 2120.0, 2102.0, 2705.0, 3380.8001335518024, 2678.27683813341, 2340.4794164696714, 1857.2114425405466, 1514.475657741696, 1374.8567645437297, 1142.2817373026116, 946.1018022989417, 855.4581793572589, 821.1579467407998, 768.4842653206695, 738.6847000016063, 736.7848742285835, 739.7779301362762, 733.6027469735797, 676.0335161893371, 641.3533848988666, 610.5697512728779, 546.5556368707611, 545.7181446561887, 542.8103736154291, 526.2996583930562, 485.1431561894242, 462.41127556367945, 449.72756266614175, 448.76179711112184, 443.24162402214915, 411.6493896413677, 402.68493633549514, 394.5592037022212, 437.2407744235368, 2658.304621931673, 1633.285486411611, 1012.4404133618062, 1251.0570371983604, 835.0075056878953, 5903.6665013632055, 1269.0062973079446, 6613.693943230598, 1720.4987869022418, 5494.9788924142995, 2331.605625795461, 3414.586908093388, 3021.198618672418, 1289.1548597196536, 5972.610170152849, 2995.792176172949, 10067.153428967531, 6403.774378624358, 2901.679565618058, 7795.271129584733, 3430.4670876728164, 4535.778696405447, 3452.562269772384, 2944.591343734822, 4706.743799649357, 5025.3765338860185, 3347.0336846897503, 4925.60724923023, 2471.5356726084146, 12572.867106346248, 13737.207672127577, 5405.899127186757, 6880.577552825097, 4444.627532588593, 2120.279689329762, 2133.323730697552, 2102.419188034949, 1974.550178759569, 1786.4310196933798, 1565.8769692366932, 1295.9027883925405, 1289.8933620412715, 1224.8979712707335, 1188.229265567507, 1184.6851817247352, 1130.5816837425716, 1134.746297717952, 1124.216693859164, 1035.3942509513593, 964.4813875428212, 929.9844926841105, 931.1933529144216, 910.8868672684389, 892.624296463083, 857.5664509880268, 802.3696581367582, 786.5423394215276, 806.1259556990738, 777.1653869397603, 755.8353713311823, 751.6211175117757, 725.0123824058163, 725.1000481716818, 703.4858117961727, 708.7117488677392, 2582.428318137114, 2975.0154872695753, 1244.1909747410448, 4635.812677134357, 4114.432968508565, 1810.4945562123498, 1731.7906831405867, 13737.207672127577, 4781.240931927578, 12572.867106346248, 5312.329849823053, 2330.9501492247646, 3330.2925836116324, 3152.478091036256, 5117.7463514049105, 3655.8024198264866, 6880.577552825097, 2458.682808879291, 3207.079894618947, 3036.0125468034585, 10067.153428967531, 4444.627532588593, 2074.443905199191, 6403.774378624358, 7795.271129584733, 3095.294035713919, 1532.2634409809696, 814.7918661206539, 715.331651532108, 659.9627003079579, 557.6475306104456, 504.03841159554224, 497.8018799427221, 479.64167867464, 464.66307808194773, 427.7921509439085, 411.8954940323576, 372.8629697275853, 370.87662323301805, 336.71837004402994, 334.30388412819366, 319.7282879470705, 295.0802142087475, 299.313249587401, 289.3334239323195, 294.4708489857086, 290.00338718752676, 281.50432763389904, 272.0530742834596, 263.767922414896, 258.85410230236596, 254.72537355714016, 252.64053979383104, 250.60562681978516, 239.50652915158724, 231.59380284717065, 588.1931561172405, 562.3938233275603, 1131.4140718459003, 435.9522096370033, 755.0952932817241, 710.681867243638, 422.4743315727148, 2705.0805946434175, 719.5206589706639, 1641.079868258213, 483.53266499706706, 840.6065015065702, 1150.9908442806577, 3746.9130560480085, 1086.7696991137127, 898.1309082167272, 5405.899127186757, 2986.407788319723, 6613.693943230598, 5903.6665013632055, 1299.96135534133, 5025.3765338860185, 1883.7177668733814, 1865.8536618838377, 875.5530278282696, 792.4361393640025, 689.2097262881184, 596.5084972845336, 564.3657142957381, 458.91240545795364, 441.8444452354904, 401.3276245939795, 369.86870569451713, 1674.3183166610931, 310.5501538808596, 300.3243985357591, 286.85481979319854, 269.9218955733761, 262.6423207908649, 340.78041633738746, 264.9683324011084, 235.70227888921747, 234.02010455677032, 232.87772999489707, 218.29139747062962, 217.7863334216961, 216.31118378479607, 226.34648807228066, 203.41529813439095, 196.65414918226543, 192.60622918435894, 187.18210426085886, 192.1259149166902, 292.95318077185806, 448.6075204971851, 333.1080370847066, 1216.4494659782029, 1325.1393324610285, 433.36776692962127, 3746.9130560480085, 581.4237725832363, 520.0168759155266, 373.73461484913895, 5405.899127186757, 12572.867106346248, 13737.207672127577, 1704.2007085705236, 4925.60724923023, 6880.577552825097, 7795.271129584733, 10067.153428967531, 4706.743799649357, 5117.7463514049105, 5312.329849823053, 2986.407788319723, 4781.240931927578, 2458.682808879291, 5494.9788924142995, 5025.3765338860185, 1302.7095338339377, 4535.778696405447, 29803.643994788094, 929.916804386281, 808.0594245103515, 634.4873975320551, 423.0261553752466, 299.45118778340276, 244.8002786731191, 218.86089703724926, 183.1344512146992, 164.7577295716966, 208.7003188676958, 142.80195039256216, 148.15896576000804, 149.69147918204703, 122.82998862374428, 167.131038275896, 130.5885995821423, 120.60276015187814, 119.38171494176554, 122.8329346894113, 116.7680349738185, 120.97741931270912, 119.36128355002933, 111.2314155036093, 103.15753078743764, 94.18804253259064, 90.92612442744333, 88.21778844650497, 85.16331035469318, 84.51163575051804, 2378.9165967179333, 151.5569885060184, 106.81286508867021, 4755.081237143062, 153.79081136712995, 202.3774746880303, 150.23072753634028, 830.9280020933465, 433.84769289630776, 215.5616140484, 186.3077481026911, 266.72991153825376, 189.3752778626237, 2587.700556781583, 228.60021378293135, 309.0958498644541], \"Category\": [\"Default\", \"Default\", \"Default\", \"Default\", \"Default\", \"Default\", \"Default\", \"Default\", \"Default\", \"Default\", \"Default\", \"Default\", \"Default\", \"Default\", \"Default\", \"Default\", \"Default\", \"Default\", \"Default\", \"Default\", \"Default\", \"Default\", \"Default\", \"Default\", \"Default\", \"Default\", \"Default\", \"Default\", \"Default\", \"Default\", \"Topic1\", \"Topic1\", \"Topic1\", \"Topic1\", \"Topic1\", \"Topic1\", \"Topic1\", \"Topic1\", \"Topic1\", \"Topic1\", \"Topic1\", \"Topic1\", \"Topic1\", \"Topic1\", \"Topic1\", \"Topic1\", \"Topic1\", \"Topic1\", \"Topic1\", \"Topic1\", \"Topic1\", \"Topic1\", \"Topic1\", \"Topic1\", \"Topic1\", \"Topic1\", \"Topic1\", \"Topic1\", \"Topic1\", \"Topic1\", \"Topic1\", \"Topic1\", \"Topic1\", \"Topic1\", \"Topic1\", \"Topic1\", \"Topic1\", \"Topic1\", \"Topic1\", \"Topic1\", \"Topic1\", \"Topic1\", \"Topic1\", \"Topic1\", \"Topic1\", \"Topic1\", \"Topic1\", \"Topic1\", \"Topic1\", \"Topic1\", \"Topic1\", \"Topic1\", \"Topic1\", \"Topic1\", \"Topic1\", \"Topic1\", \"Topic1\", \"Topic1\", \"Topic1\", \"Topic1\", \"Topic1\", \"Topic1\", \"Topic1\", \"Topic1\", \"Topic1\", \"Topic2\", \"Topic2\", \"Topic2\", \"Topic2\", \"Topic2\", \"Topic2\", \"Topic2\", \"Topic2\", \"Topic2\", \"Topic2\", \"Topic2\", \"Topic2\", \"Topic2\", \"Topic2\", \"Topic2\", \"Topic2\", \"Topic2\", \"Topic2\", \"Topic2\", \"Topic2\", \"Topic2\", \"Topic2\", \"Topic2\", \"Topic2\", \"Topic2\", \"Topic2\", \"Topic2\", \"Topic2\", \"Topic2\", \"Topic2\", \"Topic2\", \"Topic2\", \"Topic2\", \"Topic2\", \"Topic2\", \"Topic2\", \"Topic2\", \"Topic2\", \"Topic2\", \"Topic2\", \"Topic2\", \"Topic2\", \"Topic2\", \"Topic2\", \"Topic2\", \"Topic2\", \"Topic2\", \"Topic2\", \"Topic2\", \"Topic2\", \"Topic2\", \"Topic2\", \"Topic2\", \"Topic2\", \"Topic2\", \"Topic2\", \"Topic2\", \"Topic3\", \"Topic3\", \"Topic3\", \"Topic3\", \"Topic3\", \"Topic3\", \"Topic3\", \"Topic3\", \"Topic3\", \"Topic3\", \"Topic3\", \"Topic3\", \"Topic3\", \"Topic3\", \"Topic3\", \"Topic3\", \"Topic3\", \"Topic3\", \"Topic3\", \"Topic3\", \"Topic3\", \"Topic3\", \"Topic3\", \"Topic3\", \"Topic3\", \"Topic3\", \"Topic3\", \"Topic3\", \"Topic3\", \"Topic3\", \"Topic3\", \"Topic3\", \"Topic3\", \"Topic3\", \"Topic3\", \"Topic3\", \"Topic3\", \"Topic3\", \"Topic3\", \"Topic3\", \"Topic3\", \"Topic3\", \"Topic3\", \"Topic3\", \"Topic3\", \"Topic3\", \"Topic3\", \"Topic3\", \"Topic3\", \"Topic3\", \"Topic3\", \"Topic3\", \"Topic4\", \"Topic4\", \"Topic4\", \"Topic4\", \"Topic4\", \"Topic4\", \"Topic4\", \"Topic4\", \"Topic4\", \"Topic4\", \"Topic4\", \"Topic4\", \"Topic4\", \"Topic4\", \"Topic4\", \"Topic4\", \"Topic4\", \"Topic4\", \"Topic4\", \"Topic4\", \"Topic4\", \"Topic4\", \"Topic4\", \"Topic4\", \"Topic4\", \"Topic4\", \"Topic4\", \"Topic4\", \"Topic4\", \"Topic4\", \"Topic4\", \"Topic4\", \"Topic4\", \"Topic4\", \"Topic4\", \"Topic4\", \"Topic4\", \"Topic4\", \"Topic4\", \"Topic4\", \"Topic4\", \"Topic4\", \"Topic4\", \"Topic4\", \"Topic4\", \"Topic4\", \"Topic4\", \"Topic4\", \"Topic4\", \"Topic4\", \"Topic4\", \"Topic4\", \"Topic4\", \"Topic4\", \"Topic4\", \"Topic4\", \"Topic4\", \"Topic4\", \"Topic4\", \"Topic5\", \"Topic5\", \"Topic5\", \"Topic5\", \"Topic5\", \"Topic5\", \"Topic5\", \"Topic5\", \"Topic5\", \"Topic5\", \"Topic5\", \"Topic5\", \"Topic5\", \"Topic5\", \"Topic5\", \"Topic5\", \"Topic5\", \"Topic5\", \"Topic5\", \"Topic5\", \"Topic5\", \"Topic5\", \"Topic5\", \"Topic5\", \"Topic5\", \"Topic5\", \"Topic5\", \"Topic5\", \"Topic5\", \"Topic5\", \"Topic5\", \"Topic5\", \"Topic5\", \"Topic5\", \"Topic5\", \"Topic5\", \"Topic5\", \"Topic5\", \"Topic5\", \"Topic5\", \"Topic5\", \"Topic5\", \"Topic5\", \"Topic5\", \"Topic5\", \"Topic5\"], \"logprob\": [30.0, 29.0, 28.0, 27.0, 26.0, 25.0, 24.0, 23.0, 22.0, 21.0, 20.0, 19.0, 18.0, 17.0, 16.0, 15.0, 14.0, 13.0, 12.0, 11.0, 10.0, 9.0, 8.0, 7.0, 6.0, 5.0, 4.0, 3.0, 2.0, 1.0, -5.093, -5.326, -5.4609, -5.6923, -5.8964, -5.9932, -6.1787, -6.3673, -6.4681, -6.5091, -6.5755, -6.615, -6.6176, -6.6136, -6.622, -6.7038, -6.7565, -6.8058, -6.9167, -6.9183, -6.9236, -6.9546, -7.0362, -7.0843, -7.1121, -7.1143, -7.1267, -7.2008, -7.2229, -7.2433, -7.141, -5.3641, -5.8423, -6.3162, -6.112, -6.5063, -4.6473, -6.1211, -4.6002, -5.8564, -4.8179, -5.6032, -5.3171, -5.4581, -6.1838, -4.9315, -5.504, -4.5619, -4.932, -5.5627, -4.8824, -5.487, -5.2913, -5.5043, -5.6311, -5.3547, -5.3297, -5.5899, -5.388, -5.7753, -4.9907, -4.9961, -5.4206, -5.4207, -5.6338, -5.5293, -5.5232, -5.5378, -5.6005, -5.7007, -5.8326, -6.0219, -6.0266, -6.0783, -6.1087, -6.1117, -6.1585, -6.1548, -6.1642, -6.2465, -6.3176, -6.354, -6.3527, -6.3748, -6.3951, -6.4352, -6.5018, -6.5217, -6.4971, -6.5338, -6.5616, -6.5672, -6.6033, -6.6032, -6.6335, -6.6261, -5.354, -5.2277, -6.0873, -4.9968, -5.1126, -5.8164, -5.8618, -4.1726, -5.0557, -4.3088, -4.9972, -5.6668, -5.4347, -5.5037, -5.1715, -5.4198, -5.0889, -5.6984, -5.5919, -5.6738, -5.1262, -5.5419, -5.8801, -5.4827, -5.4418, -5.759, -4.7227, -5.3548, -5.4851, -5.5658, -5.7345, -5.8358, -5.8483, -5.8855, -5.9173, -6.0002, -6.0381, -6.1379, -6.1434, -6.2402, -6.2474, -6.2921, -6.3726, -6.3584, -6.3923, -6.3747, -6.3901, -6.4199, -6.4541, -6.4851, -6.5041, -6.5202, -6.5284, -6.5365, -6.582, -6.6159, -5.8173, -5.8752, -5.4, -6.1599, -5.7959, -5.8756, -6.2012, -5.1867, -5.9338, -5.5174, -6.1394, -5.8812, -5.746, -5.287, -5.8313, -5.9081, -5.3096, -5.7067, -5.5925, -5.6241, -5.9328, -5.9189, -4.486, -4.4956, -5.2528, -5.3526, -5.4924, -5.6371, -5.6926, -5.8998, -5.9378, -6.0342, -6.116, -4.606, -6.2913, -6.3249, -6.371, -6.432, -6.4594, -6.1991, -6.4509, -6.5681, -6.5753, -6.5803, -6.6452, -6.6475, -6.6543, -6.6094, -6.7162, -6.7501, -6.771, -6.7997, -6.7745, -6.3738, -6.0041, -6.2792, -5.1707, -5.1745, -6.0961, -4.6687, -5.9745, -6.0519, -6.3301, -4.9535, -4.6855, -4.67, -5.6193, -5.2058, -5.0764, -5.0454, -5.0798, -5.3866, -5.3815, -5.3819, -5.6064, -5.5324, -5.6856, -5.6551, -5.6955, -5.8805, -5.8858, -1.0923, -4.5606, -4.7011, -4.9432, -5.3493, -5.696, -5.8978, -6.0105, -6.1892, -6.2955, -6.0595, -6.4393, -6.4025, -6.3925, -6.5909, -6.283, -6.5298, -6.6094, -6.6197, -6.5913, -6.642, -6.6069, -6.6204, -6.691, -6.7671, -6.8587, -6.8942, -6.9248, -6.9603, -6.9681, -3.6307, -6.3865, -6.7345, -3.002, -6.3741, -6.1704, -6.4489, -5.3957, -5.818, -6.2841, -6.3811, -6.2203, -6.4249, -5.5592, -6.4451, -6.3901], \"loglift\": [30.0, 29.0, 28.0, 27.0, 26.0, 25.0, 24.0, 23.0, 22.0, 21.0, 20.0, 19.0, 18.0, 17.0, 16.0, 15.0, 14.0, 13.0, 12.0, 11.0, 10.0, 9.0, 8.0, 7.0, 6.0, 5.0, 4.0, 3.0, 2.0, 1.0, 1.0105, 1.0104, 1.0104, 1.0103, 1.0102, 1.0101, 1.01, 1.0098, 1.0097, 1.0096, 1.0095, 1.0095, 1.0095, 1.0095, 1.0095, 1.0094, 1.0093, 1.0092, 1.009, 1.009, 1.009, 1.0089, 1.0088, 1.0086, 1.0086, 1.0086, 1.0086, 1.0084, 1.0083, 1.0083, 1.0079, 0.9799, 0.9887, 0.9931, 0.9857, 0.9957, 0.8987, 0.9623, 0.8323, 0.9226, 0.7999, 0.8718, 0.7765, 0.7578, 0.8839, 0.6029, 0.7204, 0.4505, 0.5328, 0.6937, 0.3857, 0.602, 0.5184, 0.5782, 0.6106, 0.4179, 0.3775, 0.5236, 0.3392, 0.6415, -0.2006, -0.2946, 0.2135, -0.0278, 0.1961, 1.0408, 1.0408, 1.0408, 1.0408, 1.0407, 1.0406, 1.0405, 1.0405, 1.0405, 1.0404, 1.0404, 1.0404, 1.0404, 1.0404, 1.0403, 1.0402, 1.0402, 1.0402, 1.0402, 1.0402, 1.0401, 1.04, 1.04, 1.04, 1.04, 1.04, 1.04, 1.0399, 1.0399, 1.0399, 1.0399, 1.0189, 1.0037, 1.0158, 0.791, 0.7946, 0.9117, 0.9107, 0.5289, 0.7013, 0.4813, 0.6544, 0.8086, 0.6839, 0.6697, 0.5174, 0.6055, 0.304, 0.7236, 0.5644, 0.5373, -0.1139, 0.288, 0.7118, -0.018, -0.1737, 0.4327, 2.1722, 2.1717, 2.1715, 2.1714, 2.1711, 2.1709, 2.1709, 2.1708, 2.1708, 2.1706, 2.1705, 2.1702, 2.1701, 2.17, 2.1699, 2.1698, 2.1695, 2.1695, 2.1695, 2.1695, 2.1694, 2.1694, 2.1693, 2.1692, 2.1691, 2.169, 2.169, 2.169, 2.1688, 2.1685, 2.035, 2.022, 1.7982, 1.9919, 1.8066, 1.7876, 1.9821, 1.1398, 1.717, 1.3089, 1.9089, 1.6141, 1.435, 0.7137, 1.4071, 1.521, 0.3245, 0.5208, -0.16, -0.078, 1.1265, -0.2117, 2.2024, 2.2024, 2.2018, 2.2016, 2.2015, 2.2012, 2.2011, 2.2008, 2.2007, 2.2004, 2.2002, 2.2002, 2.1997, 2.1996, 2.1994, 2.1992, 2.1992, 2.1991, 2.1989, 2.1987, 2.1987, 2.1986, 2.1984, 2.1984, 2.1983, 2.198, 2.1979, 2.1979, 2.1978, 2.1976, 2.1968, 2.1755, 2.1191, 2.1417, 1.955, 1.8656, 2.0617, 1.332, 1.8894, 1.9237, 1.9758, 0.6807, 0.1046, 0.0315, 1.1693, 0.5214, 0.3166, 0.2227, -0.0674, 0.3861, 0.3074, 0.2697, 0.6212, 0.2245, 0.7365, -0.0373, 0.0116, 1.1767, -0.0762, 2.8347, 2.8337, 2.8336, 2.8334, 2.8327, 2.8315, 2.8312, 2.8304, 2.8299, 2.8294, 2.829, 2.8286, 2.8286, 2.8283, 2.8276, 2.8276, 2.8276, 2.8275, 2.8274, 2.8273, 2.8272, 2.8269, 2.8269, 2.8268, 2.826, 2.8254, 2.8252, 2.8247, 2.8245, 2.8244, 2.8243, 2.8219, 2.8238, 2.7604, 2.8197, 2.7489, 2.7683, 2.1111, 2.3387, 2.572, 2.6209, 2.4229, 2.5607, 0.8117, 2.3523, 2.1056]}, \"token.table\": {\"Topic\": [1, 2, 5, 2, 1, 4, 2, 3, 4, 5, 1, 2, 3, 4, 1, 3, 4, 2, 3, 1, 3, 1, 2, 3, 4, 1, 1, 3, 2, 5, 4, 1, 1, 5, 5, 1, 4, 1, 2, 5, 3, 5, 5, 4, 3, 4, 2, 2, 3, 4, 2, 1, 1, 1, 1, 5, 1, 2, 3, 4, 3, 4, 5, 1, 3, 4, 4, 2, 1, 2, 3, 4, 1, 2, 1, 2, 1, 3, 2, 4, 5, 2, 4, 4, 1, 2, 3, 4, 1, 2, 3, 4, 2, 4, 1, 5, 5, 2, 1, 2, 4, 2, 5, 1, 2, 3, 4, 1, 1, 1, 2, 3, 1, 4, 5, 2, 1, 3, 1, 2, 3, 4, 1, 2, 3, 4, 1, 2, 3, 4, 4, 5, 1, 2, 3, 4, 5, 1, 1, 2, 4, 1, 3, 5, 2, 3, 1, 3, 5, 2, 4, 4, 1, 2, 3, 1, 2, 3, 4, 5, 4, 1, 2, 3, 4, 1, 2, 3, 1, 4, 2, 1, 2, 3, 2, 3, 3, 3, 1, 3, 1, 2, 1, 3, 1, 2, 3, 4, 5, 3, 1, 2, 3, 4, 1, 3, 4, 3, 1, 3, 1, 2, 3, 4, 5, 1, 3, 5, 1, 2, 3, 4, 5, 1, 2, 4, 5, 2, 2, 2, 1, 2, 3, 4, 1, 2, 3, 4, 3, 1, 2, 2, 5, 2, 5, 5, 2, 5, 1, 2, 2, 3, 5, 1, 3, 5, 2, 4, 5, 4, 3, 5, 5, 1, 3, 5, 5, 3, 2, 3, 5, 1, 2, 4, 5, 1, 2, 3, 4, 1, 2, 3, 4, 4, 1, 2, 3, 4, 3, 3, 2, 5, 1, 2, 3, 4, 5, 3, 1, 1, 4, 1, 2, 3, 1, 2, 3, 2, 4, 1, 2, 3, 4, 4, 4, 1, 2, 4, 1, 3, 1, 2, 2, 1, 5, 5, 5, 5, 5, 1, 1, 2, 1, 1, 2, 3, 4, 5, 1, 2, 3, 4, 1, 4, 4, 1, 2, 3, 4, 2, 5, 2, 5, 1, 2, 3, 4, 3, 2, 4, 1, 2, 3, 4, 4, 2, 4, 1, 2, 3, 4, 1, 1, 2, 3, 2, 3, 4, 2, 3, 5, 5, 1, 2, 4, 1, 2, 3, 4, 1, 1, 2, 1, 2, 3, 4, 3, 4, 1, 2, 3, 4, 3, 3, 2, 4, 1, 2, 4, 1, 2, 4, 4, 1, 2, 3, 4, 4, 4, 3, 1, 2, 1, 3, 3, 3, 1, 2, 3, 4, 5, 1, 2, 2, 2, 3, 3, 1, 2, 3, 4, 1, 3, 1, 2, 3, 4, 1, 2, 4, 2, 3, 4, 3, 1, 2, 3, 1, 2, 3, 4, 1, 2, 3, 4, 5], \"Freq\": [0.04269117389926361, 0.0288112848482715, 0.9282701556224117, 0.9986032509050061, 0.9827738866093902, 0.016791111630512195, 0.2668413952487503, 0.01749779640975412, 0.09623788025364764, 0.6167973234438326, 0.4427817596796055, 0.4709056011226698, 0.04094831314110172, 0.045448127771992024, 0.35184180514111235, 0.5210821671077234, 0.12693027147495825, 0.9984829015327532, 0.9983891584683964, 0.9985898611279405, 0.9985412807307009, 0.5351962658702609, 0.29671835161982585, 0.03001819899655826, 0.1380324022234901, 0.9989347308067293, 0.30592165261161874, 0.6939521470497326, 0.9992669011690811, 0.9999783920788946, 0.9982284540065928, 0.9990730821937901, 0.9995232613316031, 0.9968025677805706, 0.9932427851451918, 0.9988354294471647, 0.9982447631802388, 0.12096142418575373, 0.8782130797047873, 0.9953806376566959, 0.9977221660562263, 0.9863402403000993, 0.9990141006357165, 0.9930423220506458, 0.002389031978086912, 0.9974208508512857, 0.999439950102133, 0.4545581280034483, 0.46467986769583275, 0.08005375938522268, 0.9993033517632443, 0.9983822146416188, 0.9993477088753613, 0.9976436724401038, 0.9984712056952992, 0.9950021031764192, 0.2054365064445184, 0.030956185902598663, 0.6796289904979615, 0.08161176283412375, 0.9975833470801488, 0.05990785072796064, 0.9385563280713833, 0.9783960081044163, 0.021429199176254424, 0.9963454787508624, 0.9963894271539365, 0.9993104765066729, 0.6487935118828938, 0.1737839763972037, 0.07356855000814957, 0.1036911059169982, 0.9971622627711868, 0.9991989504897729, 0.997530573367605, 0.9984640579258919, 0.36552112398863446, 0.6337552568015867, 0.9990263694644117, 0.994051208464738, 0.998688927474618, 0.9994216339198759, 0.9975543896012997, 0.9968524944030825, 0.010319495491803344, 0.1651119278688535, 0.09459537534153066, 0.7309642640027368, 0.9984224690775482, 0.9630201967887752, 0.02084022764429461, 0.015798237085191076, 0.9749307177320293, 0.02411205402469982, 0.9989833846121462, 0.9954927184759947, 0.9992318247234683, 0.9994855004720702, 0.999066853096325, 0.07801920030500162, 0.9206265635990191, 0.9993394669446617, 0.9887789986964423, 0.7765129990132476, 0.11783402713074002, 0.023500606534501523, 0.08208662564163913, 0.9993679002433173, 0.9986840374225763, 0.9154322060498442, 0.009299628759871434, 0.07497825687646342, 0.9988779149129721, 0.9975800898935854, 0.9954009467497132, 0.9997213650149349, 0.17279156281104263, 0.8260856906993682, 0.3713491520941852, 0.23104681239403768, 0.1915344589701298, 0.20559817798541904, 0.4151764224693808, 0.011896172563592574, 0.5722059003088028, 0.9995424818669992, 0.3538947103357934, 0.47844820797759013, 0.015987030035703193, 0.1515861120658039, 0.9947754734367577, 0.0029344409245922053, 0.45061884113766293, 0.17351415147254837, 0.15742062143191754, 0.21828006262005017, 0.00018498310391529678, 0.9997633301229902, 0.5107999628661417, 0.30290681422745763, 0.18616993877116533, 0.5782777659732288, 0.42167356591514676, 0.9939459726938855, 0.9986036343235175, 0.9978851133896786, 0.13869284612425362, 0.8606068913351123, 0.9921775523063155, 0.9993094220408905, 0.9936847367672955, 0.9939384373851861, 0.22222823130796307, 0.719228896120349, 0.058328885007079244, 0.14038005953456476, 0.05961344993933572, 0.04422933382595876, 0.7557447040696431, 0.9885952671624987, 0.9981876907265295, 0.14034013544878682, 0.711739911970524, 0.009620933279648575, 0.13824862821408063, 0.12615486897947217, 0.10547374291726361, 0.7672697769079373, 0.9978897984625434, 0.9970204832446803, 0.9987184692516472, 0.9983024466074745, 0.998653410572757, 0.9950051117427248, 0.9993006055676988, 0.9953913933820816, 0.9991754414109361, 0.999028136934621, 0.9982990763406047, 0.9974360158179081, 0.20721163863613204, 0.7923807382213994, 0.31199894785123283, 0.6876350748675896, 0.619946888393158, 0.34667055219970044, 0.0037477897535102755, 0.029357686402497158, 0.991920646693722, 0.9981482807897232, 0.2892851748744585, 0.17896953009474612, 0.1754488180273085, 0.3555919188112005, 0.99902563125782, 0.02389460316340228, 0.9728517002242357, 0.9979398165464114, 0.9527139483584587, 0.0464930710944161, 0.2710885711916473, 0.5991028305336351, 0.015578129493827208, 0.11399696629595049, 0.0002911799905388263, 0.6484808156305955, 0.35154891191362053, 0.9960664648235324, 0.2868871227593038, 0.5440517057732743, 0.023584189145753578, 0.14538198788478232, 0.9967308914946633, 0.5352242153251977, 0.26007645986560146, 0.07226493015582092, 0.13216366905503077, 0.9989654643231499, 0.9989177408004969, 0.9993249738001699, 0.6650358698864068, 0.2476304258716001, 0.015236219576954436, 0.07199532327571877, 0.7480492197769281, 0.17591340420456988, 0.04406180143264369, 0.032044946496468135, 0.9976363481058032, 0.9844222889024459, 0.014371128305145194, 0.010088626071679664, 0.9895260738639138, 0.3895376252246016, 0.6085084796407978, 0.9873864823957929, 0.5144035420395495, 0.48205111801190487, 0.8702157764385121, 0.12952447732105996, 0.9982929836355742, 0.9985729916724074, 0.9923898203835707, 0.07906018209123511, 0.004941261380702194, 0.9190746168106081, 0.13917134612502996, 0.09278089741668664, 0.7700814485584991, 0.9955901067571725, 0.18786121541605624, 0.8051194946402411, 0.9898145397345913, 0.27198505698525144, 0.24189821439838735, 0.48499990250024927, 0.995153841952858, 0.9976855579726359, 0.17953769036666034, 0.05808572335391952, 0.7603949239058555, 0.2681446081928214, 0.6996382274235989, 0.032129309156362695, 0.9938053642710338, 0.267844901974936, 0.6208139695367841, 0.015278696387394488, 0.09603752014933678, 0.14815275008542508, 0.4398524652795263, 0.052966527232613116, 0.3584835973569612, 0.9980118091228256, 0.1720525693694348, 0.6791746939659964, 0.003953067786387452, 0.14475757751104526, 0.996700449037627, 0.9982084551305551, 0.013004678122320281, 0.9818531982351812, 0.2977841067062729, 0.5712300893067447, 0.008033171681980119, 0.12264505676844895, 0.0003181454131477275, 0.996129158671582, 0.9991783741594941, 0.0570385517151856, 0.9396350887817417, 0.8940206901560693, 0.0006775450474847058, 0.10535825488387175, 0.9751753626933668, 0.007193916610033034, 0.016785805423410412, 0.9991736295091976, 0.9941397030318455, 0.14139510502533445, 0.03534877625633361, 0.04274735733324065, 0.7801392713316418, 0.9993683674081496, 0.9976513133413493, 0.6700420430827974, 0.2305922692616419, 0.09916486395346014, 0.12750913406590328, 0.8704623552232331, 0.3102321322330015, 0.6896162121416619, 0.9993794984424988, 0.9980685807274791, 0.9918528209399924, 0.9932326258032999, 0.993218962882248, 0.9934225580314792, 0.9889292472092173, 0.9969480078919808, 0.9694148589063535, 0.030094368922199563, 0.9982954405107746, 0.27173800742971954, 0.6040818250013402, 0.048748151635876966, 0.07378098625970568, 0.001646897014725573, 0.1216343298434287, 0.3449202067702942, 0.477849152956327, 0.05560426507128169, 0.9985827128173057, 0.9966919182418039, 0.9956409533330378, 0.7281989455475697, 0.08719088179059874, 0.0885693937556675, 0.09580658157227846, 0.9985004646895698, 0.9975742507591845, 0.3336708638589858, 0.6635926168880953, 0.026030197864023087, 0.7280320965093957, 0.015455429981763708, 0.23061128420157953, 0.9974646199127276, 0.9993423219626687, 0.9962309406102666, 0.8364463259843224, 0.03175230087792981, 0.097071319826814, 0.0346251281002187, 0.9980888178077234, 0.998995714592179, 0.9991475439380185, 0.6111409276199429, 0.2539806452446516, 0.03240898858590606, 0.1022977598902069, 0.9993768335976337, 0.9971987648387303, 0.9993074140331587, 0.9988388173982644, 0.8777042253417681, 0.12183920496520596, 0.9965845839537478, 0.006598178083752895, 0.006598178083752895, 0.9897267125629342, 0.9861956588580382, 0.0802708628209612, 0.1204062942314418, 0.7973572373548812, 0.4428703537973218, 0.18187997835415887, 0.3559967869005183, 0.019223087143122482, 0.9985070778768809, 0.21849912415169986, 0.7813956442132537, 0.6643410188045393, 0.1565384498016839, 0.06850379088155628, 0.11048058188982907, 0.997152330971153, 0.9996189626248667, 0.6910683179407269, 0.2241521359128587, 0.0643324722204775, 0.020230337176250786, 0.9956124575533782, 0.9960997039217957, 0.9777618926597967, 0.021685016233246975, 0.7910180858475102, 0.18625971958497464, 0.022257450768015836, 0.809830226307717, 0.08371278743855051, 0.10646082750337403, 0.996673605998218, 0.5309054917596178, 0.2652537558154312, 0.09213239980686021, 0.11183241618024932, 0.9940840661354813, 0.9970200263889071, 0.9965400845926053, 0.880421767363793, 0.11868240564463464, 0.9989484274880532, 0.9978259193282477, 0.9970886436536126, 0.9978665552344649, 0.22021411821057113, 0.592252876926567, 0.03653952094532103, 0.1502614524435929, 0.0007815940309159579, 0.22110470620517117, 0.7787199896591882, 0.9988947707888941, 0.9989413880641503, 0.9986621707345927, 0.9981384137983328, 0.6142752639164367, 0.2554500732726427, 0.0773819520206017, 0.05288264674766989, 0.1628618881393406, 0.8349539053904222, 0.552823801498149, 0.25983993437057507, 0.024645488460332547, 0.1625327471737448, 0.009055651512293265, 0.276952008750969, 0.7138871942191191, 0.9993964525830239, 0.12922050109253827, 0.8676233644784713, 0.9963392523228164, 0.2549371910652204, 0.6466432614572757, 0.09820005535666751, 0.5709657690783306, 0.31498476926711666, 0.010628625137679433, 0.1033062630204356, 0.26448438626041676, 0.08433609087617729, 0.23245802263655196, 0.4184778180185, 0.9943841775945104], \"Term\": [\"_\", \"_\", \"_\", \"advance\", \"agree\", \"agree\", \"ai\", \"ai\", \"ai\", \"ai\", \"also\", \"also\", \"also\", \"also\", \"american\", \"american\", \"american\", \"application\", \"arab\", \"argument\", \"armenian\", \"article\", \"article\", \"article\", \"article\", \"atheist\", \"attack\", \"attack\", \"available\", \"ax\", \"baseball\", \"belief\", \"believe\", \"bf\", \"bhj\", \"bible\", \"bike\", \"bit\", \"bit\", \"bn\", \"bomb\", \"bxn\", \"c\", \"canadian\", \"car\", \"car\", \"card\", \"center\", \"center\", \"center\", \"chip\", \"christ\", \"christian\", \"christianity\", \"church\", \"chz\", \"city\", \"city\", \"city\", \"city\", \"civilian\", \"cj\", \"cj\", \"claim\", \"claim\", \"club\", \"coach\", \"color\", \"come\", \"come\", \"come\", \"come\", \"community\", \"computer\", \"conclusion\", \"copy\", \"country\", \"country\", \"cpu\", \"cub\", \"cx\", \"datum\", \"det\", \"detroit\", \"division\", \"division\", \"division\", \"division\", \"doubt\", \"drive\", \"drive\", \"drive\", \"driver\", \"driver\", \"drug\", \"ea\", \"ei\", \"email\", \"encryption\", \"engine\", \"engine\", \"entry\", \"eq\", \"even\", \"even\", \"even\", \"even\", \"evidence\", \"existence\", \"fact\", \"fact\", \"fact\", \"faith\", \"fan\", \"fij\", \"file\", \"firearm\", \"firearm\", \"first\", \"first\", \"first\", \"first\", \"force\", \"force\", \"force\", \"game\", \"get\", \"get\", \"get\", \"get\", \"gm\", \"gm\", \"go\", \"go\", \"go\", \"go\", \"go\", \"god\", \"good\", \"good\", \"good\", \"government\", \"government\", \"gq\", \"graphic\", \"greece\", \"greek\", \"greek\", \"gy\", \"hardware\", \"hawk\", \"helmet\", \"help\", \"help\", \"help\", \"hit\", \"hit\", \"hit\", \"hit\", \"hj\", \"hockey\", \"host\", \"host\", \"host\", \"host\", \"house\", \"house\", \"house\", \"human\", \"ice\", \"image\", \"indeed\", \"info\", \"insurance\", \"internet\", \"iran\", \"israel\", \"israeli\", \"judge\", \"justice\", \"key\", \"key\", \"kill\", \"kill\", \"know\", \"know\", \"know\", \"know\", \"kr\", \"land\", \"last\", \"last\", \"last\", \"last\", \"law\", \"league\", \"league\", \"lebanese\", \"life\", \"life\", \"line\", \"line\", \"line\", \"line\", \"line\", \"live\", \"live\", \"lk\", \"look\", \"look\", \"look\", \"look\", \"lq\", \"m\", \"m\", \"m\", \"m\", \"mac\", \"machine\", \"mail\", \"make\", \"make\", \"make\", \"make\", \"many\", \"many\", \"many\", \"many\", \"material\", \"matter\", \"matter\", \"max\", \"max\", \"mc\", \"mc\", \"mcx\", \"md\", \"md\", \"mean\", \"mean\", \"memory\", \"military\", \"mj\", \"mk\", \"mk\", \"mk\", \"mo\", \"mo\", \"mo\", \"motorcycle\", \"mp\", \"mp\", \"mq\", \"mr\", \"mr\", \"mr\", \"mu\", \"muslim\", \"ne\", \"ne\", \"ne\", \"need\", \"need\", \"need\", \"nei\", \"new\", \"new\", \"new\", \"new\", \"next\", \"next\", \"next\", \"next\", \"nhl\", \"nntp_poste\", \"nntp_poste\", \"nntp_poste\", \"nntp_poste\", \"northern\", \"occupy\", \"od\", \"od\", \"organization\", \"organization\", \"organization\", \"organization\", \"organization\", \"palestinian\", \"patient\", \"pen\", \"pen\", \"people\", \"people\", \"people\", \"person\", \"person\", \"person\", \"pin\", \"plate\", \"play\", \"play\", \"play\", \"play\", \"player\", \"playoff\", \"point\", \"point\", \"point\", \"president\", \"president\", \"problem\", \"problem\", \"program\", \"prove\", \"qs\", \"r\", \"r_q\", \"rb\", \"rck\", \"reality\", \"reason\", \"reason\", \"religion\", \"reply\", \"reply\", \"reply\", \"reply\", \"reply\", \"report\", \"report\", \"report\", \"report\", \"revelation\", \"ride\", \"rider\", \"right\", \"right\", \"right\", \"right\", \"ripem\", \"rlk\", \"rm\", \"rm\", \"run\", \"run\", \"run\", \"run\", \"russian\", \"sale\", \"saturn\", \"say\", \"say\", \"say\", \"say\", \"score\", \"screen\", \"season\", \"see\", \"see\", \"see\", \"see\", \"sense\", \"sin\", \"software\", \"soldier\", \"space\", \"space\", \"sport\", \"sq\", \"sq\", \"sq\", \"sqs\", \"star\", \"star\", \"star\", \"state\", \"state\", \"state\", \"state\", \"statement\", \"system\", \"system\", \"take\", \"take\", \"take\", \"take\", \"tax\", \"team\", \"tell\", \"tell\", \"tell\", \"tell\", \"terrorism\", \"terrorist\", \"thank\", \"thank\", \"thing\", \"thing\", \"thing\", \"think\", \"think\", \"think\", \"ticket\", \"time\", \"time\", \"time\", \"time\", \"tor\", \"toronto\", \"town\", \"true\", \"true\", \"truth\", \"turk\", \"turkey\", \"turkish\", \"university\", \"university\", \"university\", \"university\", \"university\", \"use\", \"use\", \"user\", \"version\", \"village\", \"war\", \"way\", \"way\", \"way\", \"way\", \"weapon\", \"weapon\", \"well\", \"well\", \"well\", \"well\", \"win\", \"win\", \"win\", \"window\", \"wing\", \"wing\", \"withdraw\", \"work\", \"work\", \"work\", \"write\", \"write\", \"write\", \"write\", \"year\", \"year\", \"year\", \"year\", \"zd\"]}, \"R\": 30, \"lambda.step\": 0.01, \"plot.opts\": {\"xlab\": \"PC1\", \"ylab\": \"PC2\"}, \"topic.order\": [1, 3, 4, 2, 5]};\n",
       "\n",
       "function LDAvis_load_lib(url, callback){\n",
       "  var s = document.createElement('script');\n",
       "  s.src = url;\n",
       "  s.async = true;\n",
       "  s.onreadystatechange = s.onload = callback;\n",
       "  s.onerror = function(){console.warn(\"failed to load library \" + url);};\n",
       "  document.getElementsByTagName(\"head\")[0].appendChild(s);\n",
       "}\n",
       "\n",
       "if(typeof(LDAvis) !== \"undefined\"){\n",
       "   // already loaded: just create the visualization\n",
       "   !function(LDAvis){\n",
       "       new LDAvis(\"#\" + \"ldavis_el1017622742065732807865063381\", ldavis_el1017622742065732807865063381_data);\n",
       "   }(LDAvis);\n",
       "}else if(typeof define === \"function\" && define.amd){\n",
       "   // require.js is available: use it to load d3/LDAvis\n",
       "   require.config({paths: {d3: \"https://d3js.org/d3.v5\"}});\n",
       "   require([\"d3\"], function(d3){\n",
       "      window.d3 = d3;\n",
       "      LDAvis_load_lib(\"https://cdn.jsdelivr.net/gh/bmabey/pyLDAvis@3.3.1/pyLDAvis/js/ldavis.v3.0.0.js\", function(){\n",
       "        new LDAvis(\"#\" + \"ldavis_el1017622742065732807865063381\", ldavis_el1017622742065732807865063381_data);\n",
       "      });\n",
       "    });\n",
       "}else{\n",
       "    // require.js not available: dynamically load d3 & LDAvis\n",
       "    LDAvis_load_lib(\"https://d3js.org/d3.v5.js\", function(){\n",
       "         LDAvis_load_lib(\"https://cdn.jsdelivr.net/gh/bmabey/pyLDAvis@3.3.1/pyLDAvis/js/ldavis.v3.0.0.js\", function(){\n",
       "                 new LDAvis(\"#\" + \"ldavis_el1017622742065732807865063381\", ldavis_el1017622742065732807865063381_data);\n",
       "            })\n",
       "         });\n",
       "}\n",
       "</script>"
      ],
      "text/plain": [
       "PreparedData(topic_coordinates=              x         y  topics  cluster       Freq\n",
       "topic                                                \n",
       "0      0.178298  0.004403       1        1  36.392074\n",
       "2      0.147053  0.121441       2        1  35.300944\n",
       "3      0.026400 -0.287526       3        1  11.385146\n",
       "1      0.043187  0.120518       4        1  11.048457\n",
       "4     -0.394938  0.041164       5        1   5.873379, topic_info=         Term          Freq         Total Category  logprob  loglift\n",
       "5412       ax  29803.000000  29803.000000  Default  30.0000  30.0000\n",
       "1080        _   4755.000000   4755.000000  Default  29.0000  29.0000\n",
       "2357      max   2378.000000   2378.000000  Default  28.0000  28.0000\n",
       "154    people   5903.000000   5903.000000  Default  27.0000  27.0000\n",
       "898      team   1883.000000   1883.000000  Default  26.0000  26.0000\n",
       "...       ...           ...           ...      ...      ...      ...\n",
       "393        rm    176.681880    266.729912   Topic5  -6.2203   2.4229\n",
       "10100      ne    143.985015    189.375278   Topic5  -6.4249   2.5607\n",
       "387         m    342.217537   2587.700557   Topic5  -5.5592   0.8117\n",
       "4925       ai    141.109623    228.600214   Topic5  -6.4451   2.3523\n",
       "3108       md    149.084947    309.095850   Topic5  -6.3901   2.1056\n",
       "\n",
       "[309 rows x 6 columns], token_table=       Topic      Freq     Term\n",
       "term                           \n",
       "1080       1  0.042691        _\n",
       "1080       2  0.028811        _\n",
       "1080       5  0.928270        _\n",
       "97         2  0.998603  advance\n",
       "278        1  0.982774    agree\n",
       "...      ...       ...      ...\n",
       "45         1  0.264484     year\n",
       "45         2  0.084336     year\n",
       "45         3  0.232458     year\n",
       "45         4  0.418478     year\n",
       "12317      5  0.994384       zd\n",
       "\n",
       "[456 rows x 3 columns], R=30, lambda_step=0.01, plot_opts={'xlab': 'PC1', 'ylab': 'PC2'}, topic_order=[1, 3, 4, 2, 5])"
      ]
     },
     "execution_count": 174,
     "metadata": {},
     "output_type": "execute_result"
    }
   ],
   "source": [
    "# Visualize the topics\n",
    "pyLDAvis.enable_notebook()\n",
    "vis = pyLDAvis.gensim_models.prepare(lda_model, corpus, id2word)\n",
    "vis"
   ]
  },
  {
   "cell_type": "code",
   "execution_count": null,
   "metadata": {},
   "outputs": [],
   "source": []
  },
  {
   "cell_type": "code",
   "execution_count": 50,
   "metadata": {},
   "outputs": [],
   "source": [
    "# Finding the dominant topic and its percentage contribution in each document"
   ]
  },
  {
   "cell_type": "code",
   "execution_count": 147,
   "metadata": {},
   "outputs": [],
   "source": [
    "def format_topics_sentences(ldamodel=None, corpus=corpus, texts=data):\n",
    "    # Init output\n",
    "    sent_topics_df = pd.DataFrame()\n",
    "\n",
    "    # Get main topic in each document\n",
    "    for i, row_list in enumerate(ldamodel[corpus]):\n",
    "        row = row_list[0] if ldamodel.per_word_topics else row_list            \n",
    "        # print(row)\n",
    "        row = sorted(row, key=lambda x: (x[1]), reverse=True)\n",
    "        # Get the Dominant topic, Perc Contribution and Keywords for each document\n",
    "        for j, (topic_num, prop_topic) in enumerate(row):\n",
    "            if j == 0:  # => dominant topic\n",
    "                wp = ldamodel.show_topic(topic_num)\n",
    "                topic_keywords = \", \".join([word for word, prop in wp])\n",
    "                sent_topics_df = sent_topics_df.append(pd.Series([int(topic_num), round(prop_topic,4), topic_keywords]), ignore_index=True)\n",
    "            else:\n",
    "                break\n",
    "    sent_topics_df.columns = ['Dominant_Topic', 'Perc_Contribution', 'Topic_Keywords']\n",
    "\n",
    "    # Add original text to the end of the output\n",
    "    contents = pd.Series(texts)\n",
    "    sent_topics_df = pd.concat([sent_topics_df, contents], axis=1)\n",
    "    return(sent_topics_df)"
   ]
  },
  {
   "cell_type": "code",
   "execution_count": 148,
   "metadata": {},
   "outputs": [],
   "source": [
    "df_topic_sents_keywords = format_topics_sentences(ldamodel=lda_model, corpus=corpus, texts=data_lemmatized)"
   ]
  },
  {
   "cell_type": "code",
   "execution_count": 163,
   "metadata": {},
   "outputs": [],
   "source": [
    "# Format\n",
    "df_dominant_topic = df_topic_sents_keywords.reset_index()"
   ]
  },
  {
   "cell_type": "code",
   "execution_count": 164,
   "metadata": {},
   "outputs": [],
   "source": [
    "df_dominant_topic.columns = ['Document_No', 'Dominant_Topic', 'Topic_Perc_Contrib', 'Keywords', 'Text']"
   ]
  },
  {
   "cell_type": "code",
   "execution_count": 167,
   "metadata": {},
   "outputs": [
    {
     "data": {
      "text/plain": [
       "2.0    5356\n",
       "0.0    3752\n",
       "1.0    1641\n",
       "3.0     543\n",
       "4.0      22\n",
       "Name: Dominant_Topic, dtype: int64"
      ]
     },
     "execution_count": 167,
     "metadata": {},
     "output_type": "execute_result"
    }
   ],
   "source": [
    "df_dominant_topic.Dominant_Topic.value_counts()"
   ]
  },
  {
   "cell_type": "code",
   "execution_count": 170,
   "metadata": {},
   "outputs": [
    {
     "data": {
      "text/html": [
       "<div>\n",
       "<style scoped>\n",
       "    .dataframe tbody tr th:only-of-type {\n",
       "        vertical-align: middle;\n",
       "    }\n",
       "\n",
       "    .dataframe tbody tr th {\n",
       "        vertical-align: top;\n",
       "    }\n",
       "\n",
       "    .dataframe thead th {\n",
       "        text-align: right;\n",
       "    }\n",
       "</style>\n",
       "<table border=\"1\" class=\"dataframe\">\n",
       "  <thead>\n",
       "    <tr style=\"text-align: right;\">\n",
       "      <th></th>\n",
       "      <th>Topic_Num</th>\n",
       "      <th>Topic_Perc_Contrib</th>\n",
       "      <th>Keywords</th>\n",
       "      <th>Text</th>\n",
       "    </tr>\n",
       "  </thead>\n",
       "  <tbody>\n",
       "    <tr>\n",
       "      <th>0</th>\n",
       "      <td>0.0</td>\n",
       "      <td>0.9928</td>\n",
       "      <td>write, say, people, think, article, make, know...</td>\n",
       "      <td>[virgilio_dean, velasco_jr, arrogance, christi...</td>\n",
       "    </tr>\n",
       "    <tr>\n",
       "      <th>1</th>\n",
       "      <td>1.0</td>\n",
       "      <td>0.9963</td>\n",
       "      <td>team, game, car, year, line, organization, go,...</td>\n",
       "      <td>[nhl, summary_parse, result, game, play, sat, ...</td>\n",
       "    </tr>\n",
       "    <tr>\n",
       "      <th>2</th>\n",
       "      <td>2.0</td>\n",
       "      <td>0.9914</td>\n",
       "      <td>line, organization, use, nntp_poste, host, get...</td>\n",
       "      <td>[doug_acker, problem, libxmu, sunos, gcc, repl...</td>\n",
       "    </tr>\n",
       "    <tr>\n",
       "      <th>3</th>\n",
       "      <td>3.0</td>\n",
       "      <td>0.9750</td>\n",
       "      <td>israel, state, year, go, israeli, kill, war, g...</td>\n",
       "      <td>[serdar_argic, armenian, genocide, muslim, peo...</td>\n",
       "    </tr>\n",
       "    <tr>\n",
       "      <th>4</th>\n",
       "      <td>4.0</td>\n",
       "      <td>0.9998</td>\n",
       "      <td>ax, _, max, c, cx, ei, rlk, mr, m, mu</td>\n",
       "      <td>[cliff, reply, cliff, organization, university...</td>\n",
       "    </tr>\n",
       "  </tbody>\n",
       "</table>\n",
       "</div>"
      ],
      "text/plain": [
       "   Topic_Num  Topic_Perc_Contrib  \\\n",
       "0        0.0              0.9928   \n",
       "1        1.0              0.9963   \n",
       "2        2.0              0.9914   \n",
       "3        3.0              0.9750   \n",
       "4        4.0              0.9998   \n",
       "\n",
       "                                            Keywords  \\\n",
       "0  write, say, people, think, article, make, know...   \n",
       "1  team, game, car, year, line, organization, go,...   \n",
       "2  line, organization, use, nntp_poste, host, get...   \n",
       "3  israel, state, year, go, israeli, kill, war, g...   \n",
       "4              ax, _, max, c, cx, ei, rlk, mr, m, mu   \n",
       "\n",
       "                                                Text  \n",
       "0  [virgilio_dean, velasco_jr, arrogance, christi...  \n",
       "1  [nhl, summary_parse, result, game, play, sat, ...  \n",
       "2  [doug_acker, problem, libxmu, sunos, gcc, repl...  \n",
       "3  [serdar_argic, armenian, genocide, muslim, peo...  \n",
       "4  [cliff, reply, cliff, organization, university...  "
      ]
     },
     "execution_count": 170,
     "metadata": {},
     "output_type": "execute_result"
    }
   ],
   "source": [
    "# Group top 5 sentences under each topic\n",
    "sent_topics_sorteddf = pd.DataFrame()\n",
    "\n",
    "sent_topics_outdf_grpd = df_topic_sents_keywords.groupby('Dominant_Topic')\n",
    "\n",
    "for i, grp in sent_topics_outdf_grpd:\n",
    "    sent_topics_sorteddf = pd.concat([sent_topics_sorteddf, \n",
    "                                             grp.sort_values(['Perc_Contribution'], ascending=[0]).head(1)], \n",
    "                                            axis=0)\n",
    "\n",
    "# Reset Index    \n",
    "sent_topics_sorteddf.reset_index(drop=True, inplace=True)\n",
    "\n",
    "# Format\n",
    "sent_topics_sorteddf.columns = ['Topic_Num', \"Topic_Perc_Contrib\", \"Keywords\", \"Text\"]\n",
    "\n",
    "# Show\n",
    "sent_topics_sorteddf.head()"
   ]
  },
  {
   "cell_type": "code",
   "execution_count": null,
   "metadata": {},
   "outputs": [],
   "source": []
  },
  {
   "cell_type": "code",
   "execution_count": null,
   "metadata": {},
   "outputs": [],
   "source": []
  },
  {
   "cell_type": "code",
   "execution_count": null,
   "metadata": {},
   "outputs": [],
   "source": []
  },
  {
   "cell_type": "code",
   "execution_count": null,
   "metadata": {},
   "outputs": [],
   "source": []
  },
  {
   "cell_type": "code",
   "execution_count": null,
   "metadata": {},
   "outputs": [],
   "source": []
  }
 ],
 "metadata": {
  "kernelspec": {
   "display_name": "Python 3",
   "language": "python",
   "name": "python3"
  },
  "language_info": {
   "codemirror_mode": {
    "name": "ipython",
    "version": 3
   },
   "file_extension": ".py",
   "mimetype": "text/x-python",
   "name": "python",
   "nbconvert_exporter": "python",
   "pygments_lexer": "ipython3",
   "version": "3.8.3"
  }
 },
 "nbformat": 4,
 "nbformat_minor": 4
}
